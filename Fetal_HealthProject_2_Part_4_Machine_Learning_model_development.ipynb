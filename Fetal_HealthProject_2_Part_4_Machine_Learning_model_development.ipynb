{
  "nbformat": 4,
  "nbformat_minor": 0,
  "metadata": {
    "colab": {
      "name": "Fetal HealthProject 2 Part 4 Machine Learning model development.ipynb",
      "provenance": [],
      "collapsed_sections": []
    },
    "kernelspec": {
      "name": "python3",
      "display_name": "Python 3"
    },
    "language_info": {
      "name": "python"
    }
  },
  "cells": [
    {
      "cell_type": "markdown",
      "source": [
        "###Project 2 dataset: 'https://www.kaggle.com/andrewmvd/fetal-health-classification'\n",
        "\n",
        "Fetal Health Classification\n",
        "Classify the health of a fetus as Normal, Suspect or Pathological using CTG data\n",
        "\n",
        "Reduction of child mortality is reflected in several of the United Nations' Sustainable Development Goals and is a key indicator of human progress.\n",
        "The UN expects that by 2030, countries end preventable deaths of newborns and children under 5 years of age, with all countries aiming to reduce under‑5 mortality to at least as low as 25 per 1,000 live births.\n",
        "\n",
        "Parallel to notion of child mortality is of course maternal mortality, which accounts for 295 000 deaths during and following pregnancy and childbirth (as of 2017). The vast majority of these deaths (94%) occurred in low-resource settings, and most could have been prevented.\n",
        "\n",
        "In light of what was mentioned above, Cardiotocograms (CTGs) are a simple and cost accessible option to assess fetal health, allowing healthcare professionals to take action in order to prevent child and maternal mortality. The equipment itself works by sending ultrasound pulses and reading its response, thus shedding light on fetal heart rate (FHR), fetal movements, uterine contractions and more.\n",
        "\n",
        "This dataset contains 2126 records of features extracted from Cardiotocogram exams, which were then classified by three expert obstetritians into 3 classes:\n",
        "\n",
        "1 Normal\n",
        "2 Suspect\n",
        "3 Pathological\n",
        "\n",
        "Ayres de Campos et al. (2000) SisPorto 2.0 A Program for Automated Analysis of Cardiotocograms. J Matern Fetal Med 5:311-318 (link)\n",
        "\n",
        "1) Source of data\n",
        "\n",
        "  Located on Kaggle, fetal health data originating from this research: \n",
        "  Ayres de Campos et al. (2000) SisPorto 2.0 A Program for Automated Analysis of Cardiotocograms. J Matern Fetal Med 5:311-318\n",
        "\n",
        "2) Brief description of data\n",
        "\n",
        "  2126 measurements extracted from cardiotocograms and classified by expert obstetricians.\n",
        "\n",
        "  The data pertains to fetal viability in relation to heart rate, fetal movements, variability etc.\n",
        "\n",
        "3) What is the target?\n",
        "\n",
        "  The target is fetal_health:  \n",
        "  Fetal health: 1 - Normal 2 - Suspect 3 - Pathological\n",
        "\n",
        "4) Is this a classification or regression problem?\n",
        "\n",
        "  I believe this is a classification problem as these indicators will be clustered to predict the fetal health. \n",
        "\n",
        "5) How many features?\n",
        "\n",
        "  21\n",
        "\n",
        "6) How many rows of data.\n",
        "\n",
        "  2126\n",
        "\n",
        "7) What, if any, challenges do your foresee in cleaning, exploring, or modeling with this dataset?\n",
        "\n",
        "  It is unclear to me the significance of the histogram columns. The kaggle introduction is somewhat limited but there is a decent amount of discussion in the forums that should help the process along.\n"
      ],
      "metadata": {
        "id": "lfnEXpj5e6I4"
      }
    },
    {
      "cell_type": "markdown",
      "source": [
        ""
      ],
      "metadata": {
        "id": "Rrie4128e4Eq"
      }
    },
    {
      "cell_type": "code",
      "source": [
        "%matplotlib inline\n",
        "import pandas as pd\n",
        "import numpy as np\n",
        "import matplotlib.pyplot as plt\n",
        "import seaborn as sns\n",
        "from sklearn import set_config\n",
        "set_config(display='diagram')\n",
        "from sklearn.metrics import r2_score\n",
        "from sklearn.pipeline import make_pipeline\n",
        "from sklearn.compose import make_column_selector, make_column_transformer\n",
        "from sklearn.impute import SimpleImputer\n",
        "from sklearn.preprocessing import OneHotEncoder\n",
        "from sklearn.preprocessing import StandardScaler\n",
        "from sklearn.model_selection import train_test_split\n",
        "from sklearn.linear_model import LinearRegression"
      ],
      "metadata": {
        "id": "vbLcrmOdk92G"
      },
      "execution_count": 224,
      "outputs": []
    },
    {
      "cell_type": "code",
      "source": [
        "filename = '/content/fetal_health.csv'\n",
        "df = pd.read_csv(filename)\n",
        "df.info()"
      ],
      "metadata": {
        "id": "7c8mkOfhCC0U",
        "colab": {
          "base_uri": "https://localhost:8080/"
        },
        "outputId": "a275e6be-b5ed-4df8-bad7-9cca91530008"
      },
      "execution_count": 225,
      "outputs": [
        {
          "output_type": "stream",
          "name": "stdout",
          "text": [
            "<class 'pandas.core.frame.DataFrame'>\n",
            "RangeIndex: 2126 entries, 0 to 2125\n",
            "Data columns (total 22 columns):\n",
            " #   Column                                                  Non-Null Count  Dtype  \n",
            "---  ------                                                  --------------  -----  \n",
            " 0   baseline value                                          2126 non-null   float64\n",
            " 1   accelerations                                           2126 non-null   float64\n",
            " 2   fetal_movement                                          2126 non-null   float64\n",
            " 3   uterine_contractions                                    2126 non-null   float64\n",
            " 4   light_decelerations                                     2126 non-null   float64\n",
            " 5   severe_decelerations                                    2126 non-null   float64\n",
            " 6   prolongued_decelerations                                2126 non-null   float64\n",
            " 7   abnormal_short_term_variability                         2126 non-null   float64\n",
            " 8   mean_value_of_short_term_variability                    2126 non-null   float64\n",
            " 9   percentage_of_time_with_abnormal_long_term_variability  2126 non-null   float64\n",
            " 10  mean_value_of_long_term_variability                     2126 non-null   float64\n",
            " 11  histogram_width                                         2126 non-null   float64\n",
            " 12  histogram_min                                           2126 non-null   float64\n",
            " 13  histogram_max                                           2126 non-null   float64\n",
            " 14  histogram_number_of_peaks                               2126 non-null   float64\n",
            " 15  histogram_number_of_zeroes                              2126 non-null   float64\n",
            " 16  histogram_mode                                          2126 non-null   float64\n",
            " 17  histogram_mean                                          2126 non-null   float64\n",
            " 18  histogram_median                                        2126 non-null   float64\n",
            " 19  histogram_variance                                      2126 non-null   float64\n",
            " 20  histogram_tendency                                      2126 non-null   float64\n",
            " 21  fetal_health                                            2126 non-null   float64\n",
            "dtypes: float64(22)\n",
            "memory usage: 365.5 KB\n"
          ]
        }
      ]
    },
    {
      "cell_type": "code",
      "source": [
        "df.head()"
      ],
      "metadata": {
        "id": "AcbNbi90ewKs",
        "colab": {
          "base_uri": "https://localhost:8080/",
          "height": 287
        },
        "outputId": "4a06b404-50d5-4246-d37c-35446bdd4da5"
      },
      "execution_count": 226,
      "outputs": [
        {
          "output_type": "execute_result",
          "data": {
            "text/html": [
              "\n",
              "  <div id=\"df-aef447db-2a09-447b-8cc6-a68d7146acc1\">\n",
              "    <div class=\"colab-df-container\">\n",
              "      <div>\n",
              "<style scoped>\n",
              "    .dataframe tbody tr th:only-of-type {\n",
              "        vertical-align: middle;\n",
              "    }\n",
              "\n",
              "    .dataframe tbody tr th {\n",
              "        vertical-align: top;\n",
              "    }\n",
              "\n",
              "    .dataframe thead th {\n",
              "        text-align: right;\n",
              "    }\n",
              "</style>\n",
              "<table border=\"1\" class=\"dataframe\">\n",
              "  <thead>\n",
              "    <tr style=\"text-align: right;\">\n",
              "      <th></th>\n",
              "      <th>baseline value</th>\n",
              "      <th>accelerations</th>\n",
              "      <th>fetal_movement</th>\n",
              "      <th>uterine_contractions</th>\n",
              "      <th>light_decelerations</th>\n",
              "      <th>severe_decelerations</th>\n",
              "      <th>prolongued_decelerations</th>\n",
              "      <th>abnormal_short_term_variability</th>\n",
              "      <th>mean_value_of_short_term_variability</th>\n",
              "      <th>percentage_of_time_with_abnormal_long_term_variability</th>\n",
              "      <th>mean_value_of_long_term_variability</th>\n",
              "      <th>histogram_width</th>\n",
              "      <th>histogram_min</th>\n",
              "      <th>histogram_max</th>\n",
              "      <th>histogram_number_of_peaks</th>\n",
              "      <th>histogram_number_of_zeroes</th>\n",
              "      <th>histogram_mode</th>\n",
              "      <th>histogram_mean</th>\n",
              "      <th>histogram_median</th>\n",
              "      <th>histogram_variance</th>\n",
              "      <th>histogram_tendency</th>\n",
              "      <th>fetal_health</th>\n",
              "    </tr>\n",
              "  </thead>\n",
              "  <tbody>\n",
              "    <tr>\n",
              "      <th>0</th>\n",
              "      <td>120.0</td>\n",
              "      <td>0.000</td>\n",
              "      <td>0.0</td>\n",
              "      <td>0.000</td>\n",
              "      <td>0.000</td>\n",
              "      <td>0.0</td>\n",
              "      <td>0.0</td>\n",
              "      <td>73.0</td>\n",
              "      <td>0.5</td>\n",
              "      <td>43.0</td>\n",
              "      <td>2.4</td>\n",
              "      <td>64.0</td>\n",
              "      <td>62.0</td>\n",
              "      <td>126.0</td>\n",
              "      <td>2.0</td>\n",
              "      <td>0.0</td>\n",
              "      <td>120.0</td>\n",
              "      <td>137.0</td>\n",
              "      <td>121.0</td>\n",
              "      <td>73.0</td>\n",
              "      <td>1.0</td>\n",
              "      <td>2.0</td>\n",
              "    </tr>\n",
              "    <tr>\n",
              "      <th>1</th>\n",
              "      <td>132.0</td>\n",
              "      <td>0.006</td>\n",
              "      <td>0.0</td>\n",
              "      <td>0.006</td>\n",
              "      <td>0.003</td>\n",
              "      <td>0.0</td>\n",
              "      <td>0.0</td>\n",
              "      <td>17.0</td>\n",
              "      <td>2.1</td>\n",
              "      <td>0.0</td>\n",
              "      <td>10.4</td>\n",
              "      <td>130.0</td>\n",
              "      <td>68.0</td>\n",
              "      <td>198.0</td>\n",
              "      <td>6.0</td>\n",
              "      <td>1.0</td>\n",
              "      <td>141.0</td>\n",
              "      <td>136.0</td>\n",
              "      <td>140.0</td>\n",
              "      <td>12.0</td>\n",
              "      <td>0.0</td>\n",
              "      <td>1.0</td>\n",
              "    </tr>\n",
              "    <tr>\n",
              "      <th>2</th>\n",
              "      <td>133.0</td>\n",
              "      <td>0.003</td>\n",
              "      <td>0.0</td>\n",
              "      <td>0.008</td>\n",
              "      <td>0.003</td>\n",
              "      <td>0.0</td>\n",
              "      <td>0.0</td>\n",
              "      <td>16.0</td>\n",
              "      <td>2.1</td>\n",
              "      <td>0.0</td>\n",
              "      <td>13.4</td>\n",
              "      <td>130.0</td>\n",
              "      <td>68.0</td>\n",
              "      <td>198.0</td>\n",
              "      <td>5.0</td>\n",
              "      <td>1.0</td>\n",
              "      <td>141.0</td>\n",
              "      <td>135.0</td>\n",
              "      <td>138.0</td>\n",
              "      <td>13.0</td>\n",
              "      <td>0.0</td>\n",
              "      <td>1.0</td>\n",
              "    </tr>\n",
              "    <tr>\n",
              "      <th>3</th>\n",
              "      <td>134.0</td>\n",
              "      <td>0.003</td>\n",
              "      <td>0.0</td>\n",
              "      <td>0.008</td>\n",
              "      <td>0.003</td>\n",
              "      <td>0.0</td>\n",
              "      <td>0.0</td>\n",
              "      <td>16.0</td>\n",
              "      <td>2.4</td>\n",
              "      <td>0.0</td>\n",
              "      <td>23.0</td>\n",
              "      <td>117.0</td>\n",
              "      <td>53.0</td>\n",
              "      <td>170.0</td>\n",
              "      <td>11.0</td>\n",
              "      <td>0.0</td>\n",
              "      <td>137.0</td>\n",
              "      <td>134.0</td>\n",
              "      <td>137.0</td>\n",
              "      <td>13.0</td>\n",
              "      <td>1.0</td>\n",
              "      <td>1.0</td>\n",
              "    </tr>\n",
              "    <tr>\n",
              "      <th>4</th>\n",
              "      <td>132.0</td>\n",
              "      <td>0.007</td>\n",
              "      <td>0.0</td>\n",
              "      <td>0.008</td>\n",
              "      <td>0.000</td>\n",
              "      <td>0.0</td>\n",
              "      <td>0.0</td>\n",
              "      <td>16.0</td>\n",
              "      <td>2.4</td>\n",
              "      <td>0.0</td>\n",
              "      <td>19.9</td>\n",
              "      <td>117.0</td>\n",
              "      <td>53.0</td>\n",
              "      <td>170.0</td>\n",
              "      <td>9.0</td>\n",
              "      <td>0.0</td>\n",
              "      <td>137.0</td>\n",
              "      <td>136.0</td>\n",
              "      <td>138.0</td>\n",
              "      <td>11.0</td>\n",
              "      <td>1.0</td>\n",
              "      <td>1.0</td>\n",
              "    </tr>\n",
              "  </tbody>\n",
              "</table>\n",
              "</div>\n",
              "      <button class=\"colab-df-convert\" onclick=\"convertToInteractive('df-aef447db-2a09-447b-8cc6-a68d7146acc1')\"\n",
              "              title=\"Convert this dataframe to an interactive table.\"\n",
              "              style=\"display:none;\">\n",
              "        \n",
              "  <svg xmlns=\"http://www.w3.org/2000/svg\" height=\"24px\"viewBox=\"0 0 24 24\"\n",
              "       width=\"24px\">\n",
              "    <path d=\"M0 0h24v24H0V0z\" fill=\"none\"/>\n",
              "    <path d=\"M18.56 5.44l.94 2.06.94-2.06 2.06-.94-2.06-.94-.94-2.06-.94 2.06-2.06.94zm-11 1L8.5 8.5l.94-2.06 2.06-.94-2.06-.94L8.5 2.5l-.94 2.06-2.06.94zm10 10l.94 2.06.94-2.06 2.06-.94-2.06-.94-.94-2.06-.94 2.06-2.06.94z\"/><path d=\"M17.41 7.96l-1.37-1.37c-.4-.4-.92-.59-1.43-.59-.52 0-1.04.2-1.43.59L10.3 9.45l-7.72 7.72c-.78.78-.78 2.05 0 2.83L4 21.41c.39.39.9.59 1.41.59.51 0 1.02-.2 1.41-.59l7.78-7.78 2.81-2.81c.8-.78.8-2.07 0-2.86zM5.41 20L4 18.59l7.72-7.72 1.47 1.35L5.41 20z\"/>\n",
              "  </svg>\n",
              "      </button>\n",
              "      \n",
              "  <style>\n",
              "    .colab-df-container {\n",
              "      display:flex;\n",
              "      flex-wrap:wrap;\n",
              "      gap: 12px;\n",
              "    }\n",
              "\n",
              "    .colab-df-convert {\n",
              "      background-color: #E8F0FE;\n",
              "      border: none;\n",
              "      border-radius: 50%;\n",
              "      cursor: pointer;\n",
              "      display: none;\n",
              "      fill: #1967D2;\n",
              "      height: 32px;\n",
              "      padding: 0 0 0 0;\n",
              "      width: 32px;\n",
              "    }\n",
              "\n",
              "    .colab-df-convert:hover {\n",
              "      background-color: #E2EBFA;\n",
              "      box-shadow: 0px 1px 2px rgba(60, 64, 67, 0.3), 0px 1px 3px 1px rgba(60, 64, 67, 0.15);\n",
              "      fill: #174EA6;\n",
              "    }\n",
              "\n",
              "    [theme=dark] .colab-df-convert {\n",
              "      background-color: #3B4455;\n",
              "      fill: #D2E3FC;\n",
              "    }\n",
              "\n",
              "    [theme=dark] .colab-df-convert:hover {\n",
              "      background-color: #434B5C;\n",
              "      box-shadow: 0px 1px 3px 1px rgba(0, 0, 0, 0.15);\n",
              "      filter: drop-shadow(0px 1px 2px rgba(0, 0, 0, 0.3));\n",
              "      fill: #FFFFFF;\n",
              "    }\n",
              "  </style>\n",
              "\n",
              "      <script>\n",
              "        const buttonEl =\n",
              "          document.querySelector('#df-aef447db-2a09-447b-8cc6-a68d7146acc1 button.colab-df-convert');\n",
              "        buttonEl.style.display =\n",
              "          google.colab.kernel.accessAllowed ? 'block' : 'none';\n",
              "\n",
              "        async function convertToInteractive(key) {\n",
              "          const element = document.querySelector('#df-aef447db-2a09-447b-8cc6-a68d7146acc1');\n",
              "          const dataTable =\n",
              "            await google.colab.kernel.invokeFunction('convertToInteractive',\n",
              "                                                     [key], {});\n",
              "          if (!dataTable) return;\n",
              "\n",
              "          const docLinkHtml = 'Like what you see? Visit the ' +\n",
              "            '<a target=\"_blank\" href=https://colab.research.google.com/notebooks/data_table.ipynb>data table notebook</a>'\n",
              "            + ' to learn more about interactive tables.';\n",
              "          element.innerHTML = '';\n",
              "          dataTable['output_type'] = 'display_data';\n",
              "          await google.colab.output.renderOutput(dataTable, element);\n",
              "          const docLink = document.createElement('div');\n",
              "          docLink.innerHTML = docLinkHtml;\n",
              "          element.appendChild(docLink);\n",
              "        }\n",
              "      </script>\n",
              "    </div>\n",
              "  </div>\n",
              "  "
            ],
            "text/plain": [
              "   baseline value  accelerations  ...  histogram_tendency  fetal_health\n",
              "0           120.0          0.000  ...                 1.0           2.0\n",
              "1           132.0          0.006  ...                 0.0           1.0\n",
              "2           133.0          0.003  ...                 0.0           1.0\n",
              "3           134.0          0.003  ...                 1.0           1.0\n",
              "4           132.0          0.007  ...                 1.0           1.0\n",
              "\n",
              "[5 rows x 22 columns]"
            ]
          },
          "metadata": {},
          "execution_count": 226
        }
      ]
    },
    {
      "cell_type": "code",
      "source": [
        "df.describe().T"
      ],
      "metadata": {
        "id": "oVYYM8c2frOy",
        "colab": {
          "base_uri": "https://localhost:8080/",
          "height": 738
        },
        "outputId": "9a6e9960-bc4a-445e-830d-0cc654b03e51"
      },
      "execution_count": 227,
      "outputs": [
        {
          "output_type": "execute_result",
          "data": {
            "text/html": [
              "\n",
              "  <div id=\"df-b8081fde-661c-41bf-a8fd-6cf3c32d28bb\">\n",
              "    <div class=\"colab-df-container\">\n",
              "      <div>\n",
              "<style scoped>\n",
              "    .dataframe tbody tr th:only-of-type {\n",
              "        vertical-align: middle;\n",
              "    }\n",
              "\n",
              "    .dataframe tbody tr th {\n",
              "        vertical-align: top;\n",
              "    }\n",
              "\n",
              "    .dataframe thead th {\n",
              "        text-align: right;\n",
              "    }\n",
              "</style>\n",
              "<table border=\"1\" class=\"dataframe\">\n",
              "  <thead>\n",
              "    <tr style=\"text-align: right;\">\n",
              "      <th></th>\n",
              "      <th>count</th>\n",
              "      <th>mean</th>\n",
              "      <th>std</th>\n",
              "      <th>min</th>\n",
              "      <th>25%</th>\n",
              "      <th>50%</th>\n",
              "      <th>75%</th>\n",
              "      <th>max</th>\n",
              "    </tr>\n",
              "  </thead>\n",
              "  <tbody>\n",
              "    <tr>\n",
              "      <th>baseline value</th>\n",
              "      <td>2126.0</td>\n",
              "      <td>133.303857</td>\n",
              "      <td>9.840844</td>\n",
              "      <td>106.0</td>\n",
              "      <td>126.000</td>\n",
              "      <td>133.000</td>\n",
              "      <td>140.000</td>\n",
              "      <td>160.000</td>\n",
              "    </tr>\n",
              "    <tr>\n",
              "      <th>accelerations</th>\n",
              "      <td>2126.0</td>\n",
              "      <td>0.003178</td>\n",
              "      <td>0.003866</td>\n",
              "      <td>0.0</td>\n",
              "      <td>0.000</td>\n",
              "      <td>0.002</td>\n",
              "      <td>0.006</td>\n",
              "      <td>0.019</td>\n",
              "    </tr>\n",
              "    <tr>\n",
              "      <th>fetal_movement</th>\n",
              "      <td>2126.0</td>\n",
              "      <td>0.009481</td>\n",
              "      <td>0.046666</td>\n",
              "      <td>0.0</td>\n",
              "      <td>0.000</td>\n",
              "      <td>0.000</td>\n",
              "      <td>0.003</td>\n",
              "      <td>0.481</td>\n",
              "    </tr>\n",
              "    <tr>\n",
              "      <th>uterine_contractions</th>\n",
              "      <td>2126.0</td>\n",
              "      <td>0.004366</td>\n",
              "      <td>0.002946</td>\n",
              "      <td>0.0</td>\n",
              "      <td>0.002</td>\n",
              "      <td>0.004</td>\n",
              "      <td>0.007</td>\n",
              "      <td>0.015</td>\n",
              "    </tr>\n",
              "    <tr>\n",
              "      <th>light_decelerations</th>\n",
              "      <td>2126.0</td>\n",
              "      <td>0.001889</td>\n",
              "      <td>0.002960</td>\n",
              "      <td>0.0</td>\n",
              "      <td>0.000</td>\n",
              "      <td>0.000</td>\n",
              "      <td>0.003</td>\n",
              "      <td>0.015</td>\n",
              "    </tr>\n",
              "    <tr>\n",
              "      <th>severe_decelerations</th>\n",
              "      <td>2126.0</td>\n",
              "      <td>0.000003</td>\n",
              "      <td>0.000057</td>\n",
              "      <td>0.0</td>\n",
              "      <td>0.000</td>\n",
              "      <td>0.000</td>\n",
              "      <td>0.000</td>\n",
              "      <td>0.001</td>\n",
              "    </tr>\n",
              "    <tr>\n",
              "      <th>prolongued_decelerations</th>\n",
              "      <td>2126.0</td>\n",
              "      <td>0.000159</td>\n",
              "      <td>0.000590</td>\n",
              "      <td>0.0</td>\n",
              "      <td>0.000</td>\n",
              "      <td>0.000</td>\n",
              "      <td>0.000</td>\n",
              "      <td>0.005</td>\n",
              "    </tr>\n",
              "    <tr>\n",
              "      <th>abnormal_short_term_variability</th>\n",
              "      <td>2126.0</td>\n",
              "      <td>46.990122</td>\n",
              "      <td>17.192814</td>\n",
              "      <td>12.0</td>\n",
              "      <td>32.000</td>\n",
              "      <td>49.000</td>\n",
              "      <td>61.000</td>\n",
              "      <td>87.000</td>\n",
              "    </tr>\n",
              "    <tr>\n",
              "      <th>mean_value_of_short_term_variability</th>\n",
              "      <td>2126.0</td>\n",
              "      <td>1.332785</td>\n",
              "      <td>0.883241</td>\n",
              "      <td>0.2</td>\n",
              "      <td>0.700</td>\n",
              "      <td>1.200</td>\n",
              "      <td>1.700</td>\n",
              "      <td>7.000</td>\n",
              "    </tr>\n",
              "    <tr>\n",
              "      <th>percentage_of_time_with_abnormal_long_term_variability</th>\n",
              "      <td>2126.0</td>\n",
              "      <td>9.846660</td>\n",
              "      <td>18.396880</td>\n",
              "      <td>0.0</td>\n",
              "      <td>0.000</td>\n",
              "      <td>0.000</td>\n",
              "      <td>11.000</td>\n",
              "      <td>91.000</td>\n",
              "    </tr>\n",
              "    <tr>\n",
              "      <th>mean_value_of_long_term_variability</th>\n",
              "      <td>2126.0</td>\n",
              "      <td>8.187629</td>\n",
              "      <td>5.628247</td>\n",
              "      <td>0.0</td>\n",
              "      <td>4.600</td>\n",
              "      <td>7.400</td>\n",
              "      <td>10.800</td>\n",
              "      <td>50.700</td>\n",
              "    </tr>\n",
              "    <tr>\n",
              "      <th>histogram_width</th>\n",
              "      <td>2126.0</td>\n",
              "      <td>70.445908</td>\n",
              "      <td>38.955693</td>\n",
              "      <td>3.0</td>\n",
              "      <td>37.000</td>\n",
              "      <td>67.500</td>\n",
              "      <td>100.000</td>\n",
              "      <td>180.000</td>\n",
              "    </tr>\n",
              "    <tr>\n",
              "      <th>histogram_min</th>\n",
              "      <td>2126.0</td>\n",
              "      <td>93.579492</td>\n",
              "      <td>29.560212</td>\n",
              "      <td>50.0</td>\n",
              "      <td>67.000</td>\n",
              "      <td>93.000</td>\n",
              "      <td>120.000</td>\n",
              "      <td>159.000</td>\n",
              "    </tr>\n",
              "    <tr>\n",
              "      <th>histogram_max</th>\n",
              "      <td>2126.0</td>\n",
              "      <td>164.025400</td>\n",
              "      <td>17.944183</td>\n",
              "      <td>122.0</td>\n",
              "      <td>152.000</td>\n",
              "      <td>162.000</td>\n",
              "      <td>174.000</td>\n",
              "      <td>238.000</td>\n",
              "    </tr>\n",
              "    <tr>\n",
              "      <th>histogram_number_of_peaks</th>\n",
              "      <td>2126.0</td>\n",
              "      <td>4.068203</td>\n",
              "      <td>2.949386</td>\n",
              "      <td>0.0</td>\n",
              "      <td>2.000</td>\n",
              "      <td>3.000</td>\n",
              "      <td>6.000</td>\n",
              "      <td>18.000</td>\n",
              "    </tr>\n",
              "    <tr>\n",
              "      <th>histogram_number_of_zeroes</th>\n",
              "      <td>2126.0</td>\n",
              "      <td>0.323612</td>\n",
              "      <td>0.706059</td>\n",
              "      <td>0.0</td>\n",
              "      <td>0.000</td>\n",
              "      <td>0.000</td>\n",
              "      <td>0.000</td>\n",
              "      <td>10.000</td>\n",
              "    </tr>\n",
              "    <tr>\n",
              "      <th>histogram_mode</th>\n",
              "      <td>2126.0</td>\n",
              "      <td>137.452023</td>\n",
              "      <td>16.381289</td>\n",
              "      <td>60.0</td>\n",
              "      <td>129.000</td>\n",
              "      <td>139.000</td>\n",
              "      <td>148.000</td>\n",
              "      <td>187.000</td>\n",
              "    </tr>\n",
              "    <tr>\n",
              "      <th>histogram_mean</th>\n",
              "      <td>2126.0</td>\n",
              "      <td>134.610536</td>\n",
              "      <td>15.593596</td>\n",
              "      <td>73.0</td>\n",
              "      <td>125.000</td>\n",
              "      <td>136.000</td>\n",
              "      <td>145.000</td>\n",
              "      <td>182.000</td>\n",
              "    </tr>\n",
              "    <tr>\n",
              "      <th>histogram_median</th>\n",
              "      <td>2126.0</td>\n",
              "      <td>138.090310</td>\n",
              "      <td>14.466589</td>\n",
              "      <td>77.0</td>\n",
              "      <td>129.000</td>\n",
              "      <td>139.000</td>\n",
              "      <td>148.000</td>\n",
              "      <td>186.000</td>\n",
              "    </tr>\n",
              "    <tr>\n",
              "      <th>histogram_variance</th>\n",
              "      <td>2126.0</td>\n",
              "      <td>18.808090</td>\n",
              "      <td>28.977636</td>\n",
              "      <td>0.0</td>\n",
              "      <td>2.000</td>\n",
              "      <td>7.000</td>\n",
              "      <td>24.000</td>\n",
              "      <td>269.000</td>\n",
              "    </tr>\n",
              "    <tr>\n",
              "      <th>histogram_tendency</th>\n",
              "      <td>2126.0</td>\n",
              "      <td>0.320320</td>\n",
              "      <td>0.610829</td>\n",
              "      <td>-1.0</td>\n",
              "      <td>0.000</td>\n",
              "      <td>0.000</td>\n",
              "      <td>1.000</td>\n",
              "      <td>1.000</td>\n",
              "    </tr>\n",
              "    <tr>\n",
              "      <th>fetal_health</th>\n",
              "      <td>2126.0</td>\n",
              "      <td>1.304327</td>\n",
              "      <td>0.614377</td>\n",
              "      <td>1.0</td>\n",
              "      <td>1.000</td>\n",
              "      <td>1.000</td>\n",
              "      <td>1.000</td>\n",
              "      <td>3.000</td>\n",
              "    </tr>\n",
              "  </tbody>\n",
              "</table>\n",
              "</div>\n",
              "      <button class=\"colab-df-convert\" onclick=\"convertToInteractive('df-b8081fde-661c-41bf-a8fd-6cf3c32d28bb')\"\n",
              "              title=\"Convert this dataframe to an interactive table.\"\n",
              "              style=\"display:none;\">\n",
              "        \n",
              "  <svg xmlns=\"http://www.w3.org/2000/svg\" height=\"24px\"viewBox=\"0 0 24 24\"\n",
              "       width=\"24px\">\n",
              "    <path d=\"M0 0h24v24H0V0z\" fill=\"none\"/>\n",
              "    <path d=\"M18.56 5.44l.94 2.06.94-2.06 2.06-.94-2.06-.94-.94-2.06-.94 2.06-2.06.94zm-11 1L8.5 8.5l.94-2.06 2.06-.94-2.06-.94L8.5 2.5l-.94 2.06-2.06.94zm10 10l.94 2.06.94-2.06 2.06-.94-2.06-.94-.94-2.06-.94 2.06-2.06.94z\"/><path d=\"M17.41 7.96l-1.37-1.37c-.4-.4-.92-.59-1.43-.59-.52 0-1.04.2-1.43.59L10.3 9.45l-7.72 7.72c-.78.78-.78 2.05 0 2.83L4 21.41c.39.39.9.59 1.41.59.51 0 1.02-.2 1.41-.59l7.78-7.78 2.81-2.81c.8-.78.8-2.07 0-2.86zM5.41 20L4 18.59l7.72-7.72 1.47 1.35L5.41 20z\"/>\n",
              "  </svg>\n",
              "      </button>\n",
              "      \n",
              "  <style>\n",
              "    .colab-df-container {\n",
              "      display:flex;\n",
              "      flex-wrap:wrap;\n",
              "      gap: 12px;\n",
              "    }\n",
              "\n",
              "    .colab-df-convert {\n",
              "      background-color: #E8F0FE;\n",
              "      border: none;\n",
              "      border-radius: 50%;\n",
              "      cursor: pointer;\n",
              "      display: none;\n",
              "      fill: #1967D2;\n",
              "      height: 32px;\n",
              "      padding: 0 0 0 0;\n",
              "      width: 32px;\n",
              "    }\n",
              "\n",
              "    .colab-df-convert:hover {\n",
              "      background-color: #E2EBFA;\n",
              "      box-shadow: 0px 1px 2px rgba(60, 64, 67, 0.3), 0px 1px 3px 1px rgba(60, 64, 67, 0.15);\n",
              "      fill: #174EA6;\n",
              "    }\n",
              "\n",
              "    [theme=dark] .colab-df-convert {\n",
              "      background-color: #3B4455;\n",
              "      fill: #D2E3FC;\n",
              "    }\n",
              "\n",
              "    [theme=dark] .colab-df-convert:hover {\n",
              "      background-color: #434B5C;\n",
              "      box-shadow: 0px 1px 3px 1px rgba(0, 0, 0, 0.15);\n",
              "      filter: drop-shadow(0px 1px 2px rgba(0, 0, 0, 0.3));\n",
              "      fill: #FFFFFF;\n",
              "    }\n",
              "  </style>\n",
              "\n",
              "      <script>\n",
              "        const buttonEl =\n",
              "          document.querySelector('#df-b8081fde-661c-41bf-a8fd-6cf3c32d28bb button.colab-df-convert');\n",
              "        buttonEl.style.display =\n",
              "          google.colab.kernel.accessAllowed ? 'block' : 'none';\n",
              "\n",
              "        async function convertToInteractive(key) {\n",
              "          const element = document.querySelector('#df-b8081fde-661c-41bf-a8fd-6cf3c32d28bb');\n",
              "          const dataTable =\n",
              "            await google.colab.kernel.invokeFunction('convertToInteractive',\n",
              "                                                     [key], {});\n",
              "          if (!dataTable) return;\n",
              "\n",
              "          const docLinkHtml = 'Like what you see? Visit the ' +\n",
              "            '<a target=\"_blank\" href=https://colab.research.google.com/notebooks/data_table.ipynb>data table notebook</a>'\n",
              "            + ' to learn more about interactive tables.';\n",
              "          element.innerHTML = '';\n",
              "          dataTable['output_type'] = 'display_data';\n",
              "          await google.colab.output.renderOutput(dataTable, element);\n",
              "          const docLink = document.createElement('div');\n",
              "          docLink.innerHTML = docLinkHtml;\n",
              "          element.appendChild(docLink);\n",
              "        }\n",
              "      </script>\n",
              "    </div>\n",
              "  </div>\n",
              "  "
            ],
            "text/plain": [
              "                                                     count  ...      max\n",
              "baseline value                                      2126.0  ...  160.000\n",
              "accelerations                                       2126.0  ...    0.019\n",
              "fetal_movement                                      2126.0  ...    0.481\n",
              "uterine_contractions                                2126.0  ...    0.015\n",
              "light_decelerations                                 2126.0  ...    0.015\n",
              "severe_decelerations                                2126.0  ...    0.001\n",
              "prolongued_decelerations                            2126.0  ...    0.005\n",
              "abnormal_short_term_variability                     2126.0  ...   87.000\n",
              "mean_value_of_short_term_variability                2126.0  ...    7.000\n",
              "percentage_of_time_with_abnormal_long_term_vari...  2126.0  ...   91.000\n",
              "mean_value_of_long_term_variability                 2126.0  ...   50.700\n",
              "histogram_width                                     2126.0  ...  180.000\n",
              "histogram_min                                       2126.0  ...  159.000\n",
              "histogram_max                                       2126.0  ...  238.000\n",
              "histogram_number_of_peaks                           2126.0  ...   18.000\n",
              "histogram_number_of_zeroes                          2126.0  ...   10.000\n",
              "histogram_mode                                      2126.0  ...  187.000\n",
              "histogram_mean                                      2126.0  ...  182.000\n",
              "histogram_median                                    2126.0  ...  186.000\n",
              "histogram_variance                                  2126.0  ...  269.000\n",
              "histogram_tendency                                  2126.0  ...    1.000\n",
              "fetal_health                                        2126.0  ...    3.000\n",
              "\n",
              "[22 rows x 8 columns]"
            ]
          },
          "metadata": {},
          "execution_count": 227
        }
      ]
    },
    {
      "cell_type": "code",
      "source": [
        "df.isnull().sum()\n",
        "\n",
        "#No missing values"
      ],
      "metadata": {
        "id": "YwK73RgLf69B",
        "colab": {
          "base_uri": "https://localhost:8080/"
        },
        "outputId": "10442f91-c466-41d6-a8ac-42bc6dc12318"
      },
      "execution_count": 228,
      "outputs": [
        {
          "output_type": "execute_result",
          "data": {
            "text/plain": [
              "baseline value                                            0\n",
              "accelerations                                             0\n",
              "fetal_movement                                            0\n",
              "uterine_contractions                                      0\n",
              "light_decelerations                                       0\n",
              "severe_decelerations                                      0\n",
              "prolongued_decelerations                                  0\n",
              "abnormal_short_term_variability                           0\n",
              "mean_value_of_short_term_variability                      0\n",
              "percentage_of_time_with_abnormal_long_term_variability    0\n",
              "mean_value_of_long_term_variability                       0\n",
              "histogram_width                                           0\n",
              "histogram_min                                             0\n",
              "histogram_max                                             0\n",
              "histogram_number_of_peaks                                 0\n",
              "histogram_number_of_zeroes                                0\n",
              "histogram_mode                                            0\n",
              "histogram_mean                                            0\n",
              "histogram_median                                          0\n",
              "histogram_variance                                        0\n",
              "histogram_tendency                                        0\n",
              "fetal_health                                              0\n",
              "dtype: int64"
            ]
          },
          "metadata": {},
          "execution_count": 228
        }
      ]
    },
    {
      "cell_type": "code",
      "source": [
        "df.duplicated().sum()\n",
        "\n"
      ],
      "metadata": {
        "id": "DOa932HMgGn3",
        "colab": {
          "base_uri": "https://localhost:8080/"
        },
        "outputId": "4379ff52-0c0b-4417-dac1-632376ff0a0c"
      },
      "execution_count": 229,
      "outputs": [
        {
          "output_type": "execute_result",
          "data": {
            "text/plain": [
              "13"
            ]
          },
          "metadata": {},
          "execution_count": 229
        }
      ]
    },
    {
      "cell_type": "code",
      "source": [
        "#13 Duplicated rows will be dropped"
      ],
      "metadata": {
        "id": "a_yUSA-NkSw0"
      },
      "execution_count": 230,
      "outputs": []
    },
    {
      "cell_type": "code",
      "source": [
        "df.drop_duplicates(inplace = True)"
      ],
      "metadata": {
        "id": "o2TDJ3U6hBmG"
      },
      "execution_count": 231,
      "outputs": []
    },
    {
      "cell_type": "code",
      "source": [
        "df.duplicated().sum()"
      ],
      "metadata": {
        "id": "qzB0z-V_g_mZ",
        "colab": {
          "base_uri": "https://localhost:8080/"
        },
        "outputId": "765dda51-547c-446d-a1bf-060491803abb"
      },
      "execution_count": 232,
      "outputs": [
        {
          "output_type": "execute_result",
          "data": {
            "text/plain": [
              "0"
            ]
          },
          "metadata": {},
          "execution_count": 232
        }
      ]
    },
    {
      "cell_type": "markdown",
      "source": [
        "Removing unnecessary columns"
      ],
      "metadata": {
        "id": "4EZSWQmxjpwp"
      }
    },
    {
      "cell_type": "code",
      "source": [
        "df.drop(columns = ['histogram_width', 'histogram_min', 'histogram_max', 'histogram_number_of_peaks', 'histogram_number_of_zeroes', 'histogram_mode', 'histogram_mean', 'histogram_median', 'histogram_variance', 'histogram_tendency' ], inplace = True)"
      ],
      "metadata": {
        "id": "iePzdRHsgAEU"
      },
      "execution_count": 233,
      "outputs": []
    },
    {
      "cell_type": "code",
      "source": [
        "df.head().T"
      ],
      "metadata": {
        "id": "SX81-_4jjgJp",
        "colab": {
          "base_uri": "https://localhost:8080/",
          "height": 425
        },
        "outputId": "4a8d0200-d41b-408e-9719-f0b92a78e37e"
      },
      "execution_count": 234,
      "outputs": [
        {
          "output_type": "execute_result",
          "data": {
            "text/html": [
              "\n",
              "  <div id=\"df-a6550302-f58a-4579-bfc3-708e3c6ea315\">\n",
              "    <div class=\"colab-df-container\">\n",
              "      <div>\n",
              "<style scoped>\n",
              "    .dataframe tbody tr th:only-of-type {\n",
              "        vertical-align: middle;\n",
              "    }\n",
              "\n",
              "    .dataframe tbody tr th {\n",
              "        vertical-align: top;\n",
              "    }\n",
              "\n",
              "    .dataframe thead th {\n",
              "        text-align: right;\n",
              "    }\n",
              "</style>\n",
              "<table border=\"1\" class=\"dataframe\">\n",
              "  <thead>\n",
              "    <tr style=\"text-align: right;\">\n",
              "      <th></th>\n",
              "      <th>0</th>\n",
              "      <th>1</th>\n",
              "      <th>2</th>\n",
              "      <th>3</th>\n",
              "      <th>4</th>\n",
              "    </tr>\n",
              "  </thead>\n",
              "  <tbody>\n",
              "    <tr>\n",
              "      <th>baseline value</th>\n",
              "      <td>120.0</td>\n",
              "      <td>132.000</td>\n",
              "      <td>133.000</td>\n",
              "      <td>134.000</td>\n",
              "      <td>132.000</td>\n",
              "    </tr>\n",
              "    <tr>\n",
              "      <th>accelerations</th>\n",
              "      <td>0.0</td>\n",
              "      <td>0.006</td>\n",
              "      <td>0.003</td>\n",
              "      <td>0.003</td>\n",
              "      <td>0.007</td>\n",
              "    </tr>\n",
              "    <tr>\n",
              "      <th>fetal_movement</th>\n",
              "      <td>0.0</td>\n",
              "      <td>0.000</td>\n",
              "      <td>0.000</td>\n",
              "      <td>0.000</td>\n",
              "      <td>0.000</td>\n",
              "    </tr>\n",
              "    <tr>\n",
              "      <th>uterine_contractions</th>\n",
              "      <td>0.0</td>\n",
              "      <td>0.006</td>\n",
              "      <td>0.008</td>\n",
              "      <td>0.008</td>\n",
              "      <td>0.008</td>\n",
              "    </tr>\n",
              "    <tr>\n",
              "      <th>light_decelerations</th>\n",
              "      <td>0.0</td>\n",
              "      <td>0.003</td>\n",
              "      <td>0.003</td>\n",
              "      <td>0.003</td>\n",
              "      <td>0.000</td>\n",
              "    </tr>\n",
              "    <tr>\n",
              "      <th>severe_decelerations</th>\n",
              "      <td>0.0</td>\n",
              "      <td>0.000</td>\n",
              "      <td>0.000</td>\n",
              "      <td>0.000</td>\n",
              "      <td>0.000</td>\n",
              "    </tr>\n",
              "    <tr>\n",
              "      <th>prolongued_decelerations</th>\n",
              "      <td>0.0</td>\n",
              "      <td>0.000</td>\n",
              "      <td>0.000</td>\n",
              "      <td>0.000</td>\n",
              "      <td>0.000</td>\n",
              "    </tr>\n",
              "    <tr>\n",
              "      <th>abnormal_short_term_variability</th>\n",
              "      <td>73.0</td>\n",
              "      <td>17.000</td>\n",
              "      <td>16.000</td>\n",
              "      <td>16.000</td>\n",
              "      <td>16.000</td>\n",
              "    </tr>\n",
              "    <tr>\n",
              "      <th>mean_value_of_short_term_variability</th>\n",
              "      <td>0.5</td>\n",
              "      <td>2.100</td>\n",
              "      <td>2.100</td>\n",
              "      <td>2.400</td>\n",
              "      <td>2.400</td>\n",
              "    </tr>\n",
              "    <tr>\n",
              "      <th>percentage_of_time_with_abnormal_long_term_variability</th>\n",
              "      <td>43.0</td>\n",
              "      <td>0.000</td>\n",
              "      <td>0.000</td>\n",
              "      <td>0.000</td>\n",
              "      <td>0.000</td>\n",
              "    </tr>\n",
              "    <tr>\n",
              "      <th>mean_value_of_long_term_variability</th>\n",
              "      <td>2.4</td>\n",
              "      <td>10.400</td>\n",
              "      <td>13.400</td>\n",
              "      <td>23.000</td>\n",
              "      <td>19.900</td>\n",
              "    </tr>\n",
              "    <tr>\n",
              "      <th>fetal_health</th>\n",
              "      <td>2.0</td>\n",
              "      <td>1.000</td>\n",
              "      <td>1.000</td>\n",
              "      <td>1.000</td>\n",
              "      <td>1.000</td>\n",
              "    </tr>\n",
              "  </tbody>\n",
              "</table>\n",
              "</div>\n",
              "      <button class=\"colab-df-convert\" onclick=\"convertToInteractive('df-a6550302-f58a-4579-bfc3-708e3c6ea315')\"\n",
              "              title=\"Convert this dataframe to an interactive table.\"\n",
              "              style=\"display:none;\">\n",
              "        \n",
              "  <svg xmlns=\"http://www.w3.org/2000/svg\" height=\"24px\"viewBox=\"0 0 24 24\"\n",
              "       width=\"24px\">\n",
              "    <path d=\"M0 0h24v24H0V0z\" fill=\"none\"/>\n",
              "    <path d=\"M18.56 5.44l.94 2.06.94-2.06 2.06-.94-2.06-.94-.94-2.06-.94 2.06-2.06.94zm-11 1L8.5 8.5l.94-2.06 2.06-.94-2.06-.94L8.5 2.5l-.94 2.06-2.06.94zm10 10l.94 2.06.94-2.06 2.06-.94-2.06-.94-.94-2.06-.94 2.06-2.06.94z\"/><path d=\"M17.41 7.96l-1.37-1.37c-.4-.4-.92-.59-1.43-.59-.52 0-1.04.2-1.43.59L10.3 9.45l-7.72 7.72c-.78.78-.78 2.05 0 2.83L4 21.41c.39.39.9.59 1.41.59.51 0 1.02-.2 1.41-.59l7.78-7.78 2.81-2.81c.8-.78.8-2.07 0-2.86zM5.41 20L4 18.59l7.72-7.72 1.47 1.35L5.41 20z\"/>\n",
              "  </svg>\n",
              "      </button>\n",
              "      \n",
              "  <style>\n",
              "    .colab-df-container {\n",
              "      display:flex;\n",
              "      flex-wrap:wrap;\n",
              "      gap: 12px;\n",
              "    }\n",
              "\n",
              "    .colab-df-convert {\n",
              "      background-color: #E8F0FE;\n",
              "      border: none;\n",
              "      border-radius: 50%;\n",
              "      cursor: pointer;\n",
              "      display: none;\n",
              "      fill: #1967D2;\n",
              "      height: 32px;\n",
              "      padding: 0 0 0 0;\n",
              "      width: 32px;\n",
              "    }\n",
              "\n",
              "    .colab-df-convert:hover {\n",
              "      background-color: #E2EBFA;\n",
              "      box-shadow: 0px 1px 2px rgba(60, 64, 67, 0.3), 0px 1px 3px 1px rgba(60, 64, 67, 0.15);\n",
              "      fill: #174EA6;\n",
              "    }\n",
              "\n",
              "    [theme=dark] .colab-df-convert {\n",
              "      background-color: #3B4455;\n",
              "      fill: #D2E3FC;\n",
              "    }\n",
              "\n",
              "    [theme=dark] .colab-df-convert:hover {\n",
              "      background-color: #434B5C;\n",
              "      box-shadow: 0px 1px 3px 1px rgba(0, 0, 0, 0.15);\n",
              "      filter: drop-shadow(0px 1px 2px rgba(0, 0, 0, 0.3));\n",
              "      fill: #FFFFFF;\n",
              "    }\n",
              "  </style>\n",
              "\n",
              "      <script>\n",
              "        const buttonEl =\n",
              "          document.querySelector('#df-a6550302-f58a-4579-bfc3-708e3c6ea315 button.colab-df-convert');\n",
              "        buttonEl.style.display =\n",
              "          google.colab.kernel.accessAllowed ? 'block' : 'none';\n",
              "\n",
              "        async function convertToInteractive(key) {\n",
              "          const element = document.querySelector('#df-a6550302-f58a-4579-bfc3-708e3c6ea315');\n",
              "          const dataTable =\n",
              "            await google.colab.kernel.invokeFunction('convertToInteractive',\n",
              "                                                     [key], {});\n",
              "          if (!dataTable) return;\n",
              "\n",
              "          const docLinkHtml = 'Like what you see? Visit the ' +\n",
              "            '<a target=\"_blank\" href=https://colab.research.google.com/notebooks/data_table.ipynb>data table notebook</a>'\n",
              "            + ' to learn more about interactive tables.';\n",
              "          element.innerHTML = '';\n",
              "          dataTable['output_type'] = 'display_data';\n",
              "          await google.colab.output.renderOutput(dataTable, element);\n",
              "          const docLink = document.createElement('div');\n",
              "          docLink.innerHTML = docLinkHtml;\n",
              "          element.appendChild(docLink);\n",
              "        }\n",
              "      </script>\n",
              "    </div>\n",
              "  </div>\n",
              "  "
            ],
            "text/plain": [
              "                                                        0  ...        4\n",
              "baseline value                                      120.0  ...  132.000\n",
              "accelerations                                         0.0  ...    0.007\n",
              "fetal_movement                                        0.0  ...    0.000\n",
              "uterine_contractions                                  0.0  ...    0.008\n",
              "light_decelerations                                   0.0  ...    0.000\n",
              "severe_decelerations                                  0.0  ...    0.000\n",
              "prolongued_decelerations                              0.0  ...    0.000\n",
              "abnormal_short_term_variability                      73.0  ...   16.000\n",
              "mean_value_of_short_term_variability                  0.5  ...    2.400\n",
              "percentage_of_time_with_abnormal_long_term_vari...   43.0  ...    0.000\n",
              "mean_value_of_long_term_variability                   2.4  ...   19.900\n",
              "fetal_health                                          2.0  ...    1.000\n",
              "\n",
              "[12 rows x 5 columns]"
            ]
          },
          "metadata": {},
          "execution_count": 234
        }
      ]
    },
    {
      "cell_type": "markdown",
      "source": [
        "### Produce univariate visualizations to explore the target and corresponding features / Checking for Outliers\n",
        "\n"
      ],
      "metadata": {
        "id": "wObTCCqAkm2H"
      }
    },
    {
      "cell_type": "code",
      "source": [
        "df['fetal_health'].value_counts()"
      ],
      "metadata": {
        "id": "3mlSnzeskWGL",
        "colab": {
          "base_uri": "https://localhost:8080/"
        },
        "outputId": "2a88d29a-11fc-4edf-b4e7-cdbdfcf2dd61"
      },
      "execution_count": 235,
      "outputs": [
        {
          "output_type": "execute_result",
          "data": {
            "text/plain": [
              "1.0    1646\n",
              "2.0     292\n",
              "3.0     175\n",
              "Name: fetal_health, dtype: int64"
            ]
          },
          "metadata": {},
          "execution_count": 235
        }
      ]
    },
    {
      "cell_type": "code",
      "source": [
        "df['fetal_health'].value_counts().plot(kind='bar');\n",
        "plt.title('Fetal Health Distribution')\n"
      ],
      "metadata": {
        "id": "i2OHF8Zjl6Zr",
        "colab": {
          "base_uri": "https://localhost:8080/",
          "height": 305
        },
        "outputId": "e406ce66-4e7b-46d7-8b7a-ddeb7d6564a1"
      },
      "execution_count": 236,
      "outputs": [
        {
          "output_type": "execute_result",
          "data": {
            "text/plain": [
              "Text(0.5, 1.0, 'Fetal Health Distribution')"
            ]
          },
          "metadata": {},
          "execution_count": 236
        },
        {
          "output_type": "display_data",
          "data": {
            "image/png": "[encoded data removed]",
            "text/plain": [
              "<Figure size 432x288 with 1 Axes>"
            ]
          },
          "metadata": {
            "needs_background": "light"
          }
        }
      ]
    },
    {
      "cell_type": "code",
      "source": [
        "plt.figure(figsize=(10,10))\n",
        "df['baseline value'].value_counts().plot(kind='bar');\n",
        "plt.title('Baseline Fetal Heart Rate FHR Distribution')\n",
        "#Baseline Fetal Heart Rate (FHR)"
      ],
      "metadata": {
        "id": "Qy-jBLavpJ97",
        "colab": {
          "base_uri": "https://localhost:8080/",
          "height": 644
        },
        "outputId": "e65a6055-bb4e-4d6a-94c5-1b0460777d10"
      },
      "execution_count": 237,
      "outputs": [
        {
          "output_type": "execute_result",
          "data": {
            "text/plain": [
              "Text(0.5, 1.0, 'Baseline Fetal Heart Rate FHR Distribution')"
            ]
          },
          "metadata": {},
          "execution_count": 237
        },
        {
          "output_type": "display_data",
          "data": {
            "image/png": "[encoded data removed]",
            "text/plain": [
              "<Figure size 720x720 with 1 Axes>"
            ]
          },
          "metadata": {
            "needs_background": "light"
          }
        }
      ]
    },
    {
      "cell_type": "code",
      "source": [
        "df['fetal_health'].hist();"
      ],
      "metadata": {
        "id": "zuplKxALt2wS",
        "colab": {
          "base_uri": "https://localhost:8080/",
          "height": 264
        },
        "outputId": "a4445a77-4a60-43d1-d142-61715c6c7dd0"
      },
      "execution_count": 238,
      "outputs": [
        {
          "output_type": "display_data",
          "data": {
            "image/png": "[encoded data removed]",
            "text/plain": [
              "<Figure size 432x288 with 1 Axes>"
            ]
          },
          "metadata": {
            "needs_background": "light"
          }
        }
      ]
    },
    {
      "cell_type": "code",
      "source": [
        "df['accelerations'].value_counts().plot(kind='bar');\n",
        "plt.title('Number of accelerations per second Distribution')\n",
        "#Number of accelerations per second"
      ],
      "metadata": {
        "id": "00J59eLepa3h",
        "colab": {
          "base_uri": "https://localhost:8080/",
          "height": 318
        },
        "outputId": "2c66d78c-e703-40bd-fcef-4d7643bd6cd2"
      },
      "execution_count": 239,
      "outputs": [
        {
          "output_type": "execute_result",
          "data": {
            "text/plain": [
              "Text(0.5, 1.0, 'Number of accelerations per second Distribution')"
            ]
          },
          "metadata": {},
          "execution_count": 239
        },
        {
          "output_type": "display_data",
          "data": {
            "image/png": "[encoded data removed]",
            "text/plain": [
              "<Figure size 432x288 with 1 Axes>"
            ]
          },
          "metadata": {
            "needs_background": "light"
          }
        }
      ]
    },
    {
      "cell_type": "code",
      "source": [
        "df['accelerations'].hist();"
      ],
      "metadata": {
        "id": "uTq8JMu1uE1g",
        "colab": {
          "base_uri": "https://localhost:8080/",
          "height": 264
        },
        "outputId": "cead4894-b7bd-49e5-fc47-b0f629a98c4a"
      },
      "execution_count": 240,
      "outputs": [
        {
          "output_type": "display_data",
          "data": {
            "image/png": "[encoded data removed]",
            "text/plain": [
              "<Figure size 432x288 with 1 Axes>"
            ]
          },
          "metadata": {
            "needs_background": "light"
          }
        }
      ]
    },
    {
      "cell_type": "code",
      "source": [
        "plt.figure(figsize=(20,10))\n",
        "\n",
        "df['fetal_movement'].value_counts().plot(kind='bar');\n",
        "plt.title('Number of fetal movements per second Distribution')\n",
        "#Number of fetal movements per second"
      ],
      "metadata": {
        "id": "iPF9joztpw2r",
        "colab": {
          "base_uri": "https://localhost:8080/",
          "height": 644
        },
        "outputId": "02588f56-d0e2-44bc-f8be-27adb9fa59c9"
      },
      "execution_count": 241,
      "outputs": [
        {
          "output_type": "execute_result",
          "data": {
            "text/plain": [
              "Text(0.5, 1.0, 'Number of fetal movements per second Distribution')"
            ]
          },
          "metadata": {},
          "execution_count": 241
        },
        {
          "output_type": "display_data",
          "data": {
            "image/png": "[encoded data removed]",
            "text/plain": [
              "<Figure size 1440x720 with 1 Axes>"
            ]
          },
          "metadata": {
            "needs_background": "light"
          }
        }
      ]
    },
    {
      "cell_type": "code",
      "source": [
        "df.boxplot(column = 'fetal_movement');"
      ],
      "metadata": {
        "id": "8KHVXRKOuJVB",
        "colab": {
          "base_uri": "https://localhost:8080/",
          "height": 267
        },
        "outputId": "15dd54c6-78d3-49da-9336-e38f13535fc9"
      },
      "execution_count": 242,
      "outputs": [
        {
          "output_type": "display_data",
          "data": {
            "image/png": "[encoded data removed]",
            "text/plain": [
              "<Figure size 432x288 with 1 Axes>"
            ]
          },
          "metadata": {
            "needs_background": "light"
          }
        }
      ]
    },
    {
      "cell_type": "code",
      "source": [
        "#Number of uterine contractions per second\n",
        "plt.figure(figsize=(20,10))\n",
        "df['uterine_contractions'].value_counts().plot(kind='bar');\n",
        "plt.title('Number of uterine contractions per second Distribution')"
      ],
      "metadata": {
        "id": "o5WP19K9pz9Z",
        "colab": {
          "base_uri": "https://localhost:8080/",
          "height": 644
        },
        "outputId": "709a9cf4-550b-4212-a2d5-7268a8be5630"
      },
      "execution_count": 243,
      "outputs": [
        {
          "output_type": "execute_result",
          "data": {
            "text/plain": [
              "Text(0.5, 1.0, 'Number of uterine contractions per second Distribution')"
            ]
          },
          "metadata": {},
          "execution_count": 243
        },
        {
          "output_type": "display_data",
          "data": {
            "image/png": "[encoded data removed]",
            "text/plain": [
              "<Figure size 1440x720 with 1 Axes>"
            ]
          },
          "metadata": {
            "needs_background": "light"
          }
        }
      ]
    },
    {
      "cell_type": "code",
      "source": [
        "df.boxplot(column = 'uterine_contractions');"
      ],
      "metadata": {
        "id": "tuRNL7qruQnF",
        "colab": {
          "base_uri": "https://localhost:8080/",
          "height": 265
        },
        "outputId": "76a40680-2bd9-4f57-ae1c-932db64dc04f"
      },
      "execution_count": 244,
      "outputs": [
        {
          "output_type": "display_data",
          "data": {
            "image/png": "[encoded data removed]",
            "text/plain": [
              "<Figure size 432x288 with 1 Axes>"
            ]
          },
          "metadata": {
            "needs_background": "light"
          }
        }
      ]
    },
    {
      "cell_type": "code",
      "source": [
        "#Number of LDs per second\n",
        "plt.figure(figsize=(20,10))\n",
        "df['light_decelerations'].value_counts().plot(kind='bar');\n",
        "plt.title('Number of LDs per second Distribution')"
      ],
      "metadata": {
        "id": "c97ugymWp3Fn",
        "colab": {
          "base_uri": "https://localhost:8080/",
          "height": 644
        },
        "outputId": "45250711-f777-467e-db37-f18980d4b934"
      },
      "execution_count": 245,
      "outputs": [
        {
          "output_type": "execute_result",
          "data": {
            "text/plain": [
              "Text(0.5, 1.0, 'Number of LDs per second Distribution')"
            ]
          },
          "metadata": {},
          "execution_count": 245
        },
        {
          "output_type": "display_data",
          "data": {
            "image/png": "[encoded data removed]",
            "text/plain": [
              "<Figure size 1440x720 with 1 Axes>"
            ]
          },
          "metadata": {
            "needs_background": "light"
          }
        }
      ]
    },
    {
      "cell_type": "code",
      "source": [
        "df['light_decelerations'].hist();"
      ],
      "metadata": {
        "id": "9CELaEKSuZA0",
        "colab": {
          "base_uri": "https://localhost:8080/",
          "height": 264
        },
        "outputId": "0bc368ee-2bed-4442-c61d-204bc5f46176"
      },
      "execution_count": 246,
      "outputs": [
        {
          "output_type": "display_data",
          "data": {
            "image/png": "[encoded data removed]",
            "text/plain": [
              "<Figure size 432x288 with 1 Axes>"
            ]
          },
          "metadata": {
            "needs_background": "light"
          }
        }
      ]
    },
    {
      "cell_type": "code",
      "source": [
        "#Number of SDs per second\n",
        "plt.figure(figsize=(5,5))\n",
        "df['severe_decelerations'].value_counts().plot(kind='bar');\n",
        "plt.title('Number of SDs per second Distribution')"
      ],
      "metadata": {
        "id": "leqZZS9Gp9E4",
        "colab": {
          "base_uri": "https://localhost:8080/",
          "height": 372
        },
        "outputId": "82b17ccd-7682-4282-cfbc-459577e87bc9"
      },
      "execution_count": 247,
      "outputs": [
        {
          "output_type": "execute_result",
          "data": {
            "text/plain": [
              "Text(0.5, 1.0, 'Number of SDs per second Distribution')"
            ]
          },
          "metadata": {},
          "execution_count": 247
        },
        {
          "output_type": "display_data",
          "data": {
            "image/png": "[encoded data removed]",
            "text/plain": [
              "<Figure size 360x360 with 1 Axes>"
            ]
          },
          "metadata": {
            "needs_background": "light"
          }
        }
      ]
    },
    {
      "cell_type": "code",
      "source": [
        "df['severe_decelerations'].hist();"
      ],
      "metadata": {
        "id": "hpEtwbVSuers",
        "colab": {
          "base_uri": "https://localhost:8080/",
          "height": 264
        },
        "outputId": "09ddf846-c5d1-4138-9ca2-9b4880a1077c"
      },
      "execution_count": 248,
      "outputs": [
        {
          "output_type": "display_data",
          "data": {
            "image/png": "[encoded data removed]",
            "text/plain": [
              "<Figure size 432x288 with 1 Axes>"
            ]
          },
          "metadata": {
            "needs_background": "light"
          }
        }
      ]
    },
    {
      "cell_type": "code",
      "source": [
        "#Number of PDs per second\n",
        "plt.figure(figsize=(20,10))\n",
        "df['prolongued_decelerations'].value_counts().plot(kind='bar');\n",
        "plt.title('Number of PDs per second Distribution')"
      ],
      "metadata": {
        "id": "eGGPfsNsp-Nm",
        "colab": {
          "base_uri": "https://localhost:8080/",
          "height": 644
        },
        "outputId": "f28e1bdf-7031-4c5e-aff6-29bdf278e9ff"
      },
      "execution_count": 249,
      "outputs": [
        {
          "output_type": "execute_result",
          "data": {
            "text/plain": [
              "Text(0.5, 1.0, 'Number of PDs per second Distribution')"
            ]
          },
          "metadata": {},
          "execution_count": 249
        },
        {
          "output_type": "display_data",
          "data": {
            "image/png": "[encoded data removed]",
            "text/plain": [
              "<Figure size 1440x720 with 1 Axes>"
            ]
          },
          "metadata": {
            "needs_background": "light"
          }
        }
      ]
    },
    {
      "cell_type": "code",
      "source": [
        "df['prolongued_decelerations'].hist();"
      ],
      "metadata": {
        "id": "H8FD_eteuqXH",
        "colab": {
          "base_uri": "https://localhost:8080/",
          "height": 265
        },
        "outputId": "97c6cc2a-28ee-4297-c4f0-36bfe27257d3"
      },
      "execution_count": 250,
      "outputs": [
        {
          "output_type": "display_data",
          "data": {
            "image/png": "[encoded data removed]",
            "text/plain": [
              "<Figure size 432x288 with 1 Axes>"
            ]
          },
          "metadata": {
            "needs_background": "light"
          }
        }
      ]
    },
    {
      "cell_type": "code",
      "source": [
        "#Percentage of time with abnormal short term variability\n",
        "plt.figure(figsize=(20,10))\n",
        "df['abnormal_short_term_variability'].value_counts().plot(kind='bar');\n",
        "plt.title('Percentage of time with abnormal short term variability Distribution')"
      ],
      "metadata": {
        "id": "Q5TY5P40qAMT",
        "colab": {
          "base_uri": "https://localhost:8080/",
          "height": 638
        },
        "outputId": "04210ee5-56c3-4e39-8dfa-7b4e8a692c9c"
      },
      "execution_count": 251,
      "outputs": [
        {
          "output_type": "execute_result",
          "data": {
            "text/plain": [
              "Text(0.5, 1.0, 'Percentage of time with abnormal short term variability Distribution')"
            ]
          },
          "metadata": {},
          "execution_count": 251
        },
        {
          "output_type": "display_data",
          "data": {
            "image/png": "[encoded data removed]",
            "text/plain": [
              "<Figure size 1440x720 with 1 Axes>"
            ]
          },
          "metadata": {
            "needs_background": "light"
          }
        }
      ]
    },
    {
      "cell_type": "code",
      "source": [
        "df.boxplot(column = 'abnormal_short_term_variability');"
      ],
      "metadata": {
        "id": "YGbU4NrWuv1t",
        "colab": {
          "base_uri": "https://localhost:8080/",
          "height": 267
        },
        "outputId": "56f70996-2c94-4fd7-9dad-12cbda5e110f"
      },
      "execution_count": 252,
      "outputs": [
        {
          "output_type": "display_data",
          "data": {
            "image/png": "[encoded data removed]",
            "text/plain": [
              "<Figure size 432x288 with 1 Axes>"
            ]
          },
          "metadata": {
            "needs_background": "light"
          }
        }
      ]
    },
    {
      "cell_type": "code",
      "source": [
        "#Mean value of short term variability\n",
        "plt.figure(figsize=(20,10))\n",
        "df['mean_value_of_short_term_variability'].value_counts().plot(kind='bar');\n",
        "plt.title('Mean value of short term variability Distribution')"
      ],
      "metadata": {
        "id": "CL1-o5i0qCRX",
        "colab": {
          "base_uri": "https://localhost:8080/",
          "height": 632
        },
        "outputId": "2a99fbf2-708a-49e5-8e24-f9717251c9fc"
      },
      "execution_count": 253,
      "outputs": [
        {
          "output_type": "execute_result",
          "data": {
            "text/plain": [
              "Text(0.5, 1.0, 'Mean value of short term variability Distribution')"
            ]
          },
          "metadata": {},
          "execution_count": 253
        },
        {
          "output_type": "display_data",
          "data": {
            "image/png": "[encoded data removed]",
            "text/plain": [
              "<Figure size 1440x720 with 1 Axes>"
            ]
          },
          "metadata": {
            "needs_background": "light"
          }
        }
      ]
    },
    {
      "cell_type": "code",
      "source": [
        "df.boxplot(column = 'mean_value_of_short_term_variability');\n"
      ],
      "metadata": {
        "id": "IqjixQOouzq8",
        "colab": {
          "base_uri": "https://localhost:8080/",
          "height": 265
        },
        "outputId": "4c1d601b-48c2-4916-f24c-2f5ec75f8bcc"
      },
      "execution_count": 254,
      "outputs": [
        {
          "output_type": "display_data",
          "data": {
            "image/png": "[encoded data removed]",
            "text/plain": [
              "<Figure size 432x288 with 1 Axes>"
            ]
          },
          "metadata": {
            "needs_background": "light"
          }
        }
      ]
    },
    {
      "cell_type": "code",
      "source": [
        "#Percentage of time with abnormal long term variability\n",
        "plt.figure(figsize=(20,10))\n",
        "df['percentage_of_time_with_abnormal_long_term_variability'].value_counts().plot(kind='bar');\n",
        "plt.title('Percentage of time with abnormal long term variability Distribution')"
      ],
      "metadata": {
        "id": "2TkRpWmjqE-7",
        "colab": {
          "base_uri": "https://localhost:8080/",
          "height": 638
        },
        "outputId": "bfb0ddf5-12c8-443c-d26e-052d9f74b91d"
      },
      "execution_count": 255,
      "outputs": [
        {
          "output_type": "execute_result",
          "data": {
            "text/plain": [
              "Text(0.5, 1.0, 'Percentage of time with abnormal long term variability Distribution')"
            ]
          },
          "metadata": {},
          "execution_count": 255
        },
        {
          "output_type": "display_data",
          "data": {
            "image/png": "[encoded data removed]",
            "text/plain": [
              "<Figure size 1440x720 with 1 Axes>"
            ]
          },
          "metadata": {
            "needs_background": "light"
          }
        }
      ]
    },
    {
      "cell_type": "code",
      "source": [
        "df.boxplot(column = 'percentage_of_time_with_abnormal_long_term_variability');"
      ],
      "metadata": {
        "id": "c51Bj3Zku7PL",
        "colab": {
          "base_uri": "https://localhost:8080/",
          "height": 265
        },
        "outputId": "0e4f6367-5f6f-48e1-c715-ea55b58f9018"
      },
      "execution_count": 256,
      "outputs": [
        {
          "output_type": "display_data",
          "data": {
            "image/png": "[encoded data removed]",
            "text/plain": [
              "<Figure size 432x288 with 1 Axes>"
            ]
          },
          "metadata": {
            "needs_background": "light"
          }
        }
      ]
    },
    {
      "cell_type": "code",
      "source": [
        "#Mean Value of Long term variability \n",
        "plt.figure(figsize=(40,25))\n",
        "df['mean_value_of_long_term_variability'].value_counts().plot(kind='bar');\n",
        "plt.title('Mean Value of Long term variability Distribution')\n",
        "\n"
      ],
      "metadata": {
        "id": "pVQoNausrjZw",
        "colab": {
          "base_uri": "https://localhost:8080/",
          "height": 1000
        },
        "outputId": "93a88190-2d3e-4408-da16-d8c2869a093f"
      },
      "execution_count": 257,
      "outputs": [
        {
          "output_type": "execute_result",
          "data": {
            "text/plain": [
              "Text(0.5, 1.0, 'Mean Value of Long term variability Distribution')"
            ]
          },
          "metadata": {},
          "execution_count": 257
        },
        {
          "output_type": "display_data",
          "data": {
            "image/png": "[encoded data removed]",
            "text/plain": [
              "<Figure size 2880x1800 with 1 Axes>"
            ]
          },
          "metadata": {
            "needs_background": "light"
          }
        }
      ]
    },
    {
      "cell_type": "code",
      "source": [
        "df.boxplot(column = 'mean_value_of_long_term_variability');"
      ],
      "metadata": {
        "id": "6FHKwqTMvCb_"
      },
      "execution_count": null,
      "outputs": []
    },
    {
      "cell_type": "code",
      "source": [
        "corr = df.corr()\n",
        "plt.figure(figsize=(9,9))\n",
        "sns.heatmap(corr, annot = True);\n",
        "plt.title('Fetal Health Correlation Heat Map')\n",
        "\n",
        "## There are apparent correlations of fetal health with FHR accelerations and percentage of time with abnormal variability. \n",
        "## All abnormal variability measures appear correlated with fetal health measures. \n",
        "## There appear to be some correlation between uterine contractions and fetal health outcomes. "
      ],
      "metadata": {
        "id": "ENRDR6vhr6LQ",
        "colab": {
          "base_uri": "https://localhost:8080/",
          "height": 850
        },
        "outputId": "4574a0fa-a67f-4703-e5ee-b10e6a63625b"
      },
      "execution_count": 258,
      "outputs": [
        {
          "output_type": "execute_result",
          "data": {
            "text/plain": [
              "Text(0.5, 1.0, 'Fetal Health Correlation Heat Map')"
            ]
          },
          "metadata": {},
          "execution_count": 258
        },
        {
          "output_type": "display_data",
          "data": {
            "image/png": "[encoded data removed]",
            "text/plain": [
              "<Figure size 648x648 with 2 Axes>"
            ]
          },
          "metadata": {
            "needs_background": "light"
          }
        }
      ]
    },
    {
      "cell_type": "markdown",
      "source": [
        "###Machine Learning Modeling to predict Fetal Health\n"
      ],
      "metadata": {
        "id": "GVR--Ij-NhSZ"
      }
    },
    {
      "cell_type": "code",
      "source": [
        "#Preprocessing data"
      ],
      "metadata": {
        "id": "iW0d0dO4tqVl"
      },
      "execution_count": null,
      "outputs": []
    },
    {
      "cell_type": "code",
      "source": [
        "df.info()"
      ],
      "metadata": {
        "id": "v5tHLppAQrqz",
        "colab": {
          "base_uri": "https://localhost:8080/"
        },
        "outputId": "61546459-cc6c-4bfe-c0a0-2d53b8af754b"
      },
      "execution_count": 259,
      "outputs": [
        {
          "output_type": "stream",
          "name": "stdout",
          "text": [
            "<class 'pandas.core.frame.DataFrame'>\n",
            "Int64Index: 2113 entries, 0 to 2125\n",
            "Data columns (total 12 columns):\n",
            " #   Column                                                  Non-Null Count  Dtype  \n",
            "---  ------                                                  --------------  -----  \n",
            " 0   baseline value                                          2113 non-null   float64\n",
            " 1   accelerations                                           2113 non-null   float64\n",
            " 2   fetal_movement                                          2113 non-null   float64\n",
            " 3   uterine_contractions                                    2113 non-null   float64\n",
            " 4   light_decelerations                                     2113 non-null   float64\n",
            " 5   severe_decelerations                                    2113 non-null   float64\n",
            " 6   prolongued_decelerations                                2113 non-null   float64\n",
            " 7   abnormal_short_term_variability                         2113 non-null   float64\n",
            " 8   mean_value_of_short_term_variability                    2113 non-null   float64\n",
            " 9   percentage_of_time_with_abnormal_long_term_variability  2113 non-null   float64\n",
            " 10  mean_value_of_long_term_variability                     2113 non-null   float64\n",
            " 11  fetal_health                                            2113 non-null   float64\n",
            "dtypes: float64(12)\n",
            "memory usage: 214.6 KB\n"
          ]
        }
      ]
    },
    {
      "cell_type": "code",
      "source": [
        "X = df.drop(columns=['fetal_health'])\n",
        "y = df['fetal_health']"
      ],
      "metadata": {
        "id": "pLyWidviSIni"
      },
      "execution_count": 260,
      "outputs": []
    },
    {
      "cell_type": "code",
      "source": [
        "X_train, X_test, y_train, y_test = train_test_split(X, y, random_state=42)"
      ],
      "metadata": {
        "id": "a-hQPf57SLtT"
      },
      "execution_count": 261,
      "outputs": []
    },
    {
      "cell_type": "code",
      "source": [
        "from sklearn.metrics import r2_score\n",
        "from sklearn.metrics import mean_absolute_error\n",
        "from sklearn.metrics import mean_squared_error\n",
        "\n",
        "def eval_model(true, pred):\n",
        "  mae = mean_absolute_error(true, pred)\n",
        "  mse = mean_squared_error(true, pred)\n",
        "  rmse = np.sqrt(mse)\n",
        "  r2 = r2_score(true, pred)\n",
        "\n",
        "  print(f'MAE {mae},\\n MSE {mse},\\n RMSE: {rmse},\\n R^2: {r2} ')"
      ],
      "metadata": {
        "id": "KMz974GDSX1j"
      },
      "execution_count": 262,
      "outputs": []
    },
    {
      "cell_type": "code",
      "source": [
        "scaler = StandardScaler()\n",
        "\n",
        "X_train = scaler.fit_transform(X_train)\n",
        "X_test = scaler.transform(X_test)\n"
      ],
      "metadata": {
        "id": "aUzfbwhmSN7_"
      },
      "execution_count": 263,
      "outputs": []
    },
    {
      "cell_type": "code",
      "source": [
        "\n",
        "from sklearn.dummy import DummyRegressor\n",
        "\n",
        "\n",
        "dummy = DummyRegressor(strategy='mean')\n",
        "\n",
        "dummy.fit(X_train, y_train)\n",
        "\n",
        "print('Dummy Training Scores')\n",
        "eval_model(y_train, dummy.predict(X_train))\n",
        "\n",
        "print('\\n')\n",
        "\n",
        "print('Dummy Testing Scores')\n",
        "eval_model(y_test, dummy.predict(X_test))\n"
      ],
      "metadata": {
        "id": "WJsfL0frSjZA",
        "colab": {
          "base_uri": "https://localhost:8080/"
        },
        "outputId": "5fee1f05-409a-4388-d965-c384fda78ed2"
      },
      "execution_count": 264,
      "outputs": [
        {
          "output_type": "stream",
          "name": "stdout",
          "text": [
            "Dummy Training Scores\n",
            "MAE 0.48569820681563103,\n",
            " MSE 0.3908206911284564,\n",
            " RMSE: 0.6251565333006258,\n",
            " R^2: 0.0 \n",
            "\n",
            "\n",
            "Dummy Testing Scores\n",
            "MAE 0.4585636611865345,\n",
            " MSE 0.3366489485576296,\n",
            " RMSE: 0.580214571135222,\n",
            " R^2: -0.004694335096361524 \n"
          ]
        }
      ]
    },
    {
      "cell_type": "code",
      "source": [
        "from sklearn.linear_model import LogisticRegression\n",
        "from sklearn.ensemble import RandomForestClassifier\n",
        "from sklearn.neighbors import KNeighborsClassifier"
      ],
      "metadata": {
        "id": "m1a2SWspU5ew"
      },
      "execution_count": 266,
      "outputs": []
    },
    {
      "cell_type": "code",
      "source": [
        "log_reg = LogisticRegression()\n",
        "\n",
        "log_reg.fit(X_train, y_train)\n",
        "\n",
        "print('Logistic Regression Training Scores')\n",
        "eval_model(y_train, log_reg.predict(X_train))\n",
        "\n",
        "print('\\n')\n",
        "\n",
        "print('Logistic Regression Testing Scores')\n",
        "eval_model(y_test, log_reg.predict(X_test))"
      ],
      "metadata": {
        "id": "dzuy5VqhUaUl",
        "colab": {
          "base_uri": "https://localhost:8080/"
        },
        "outputId": "c7be1e7c-1440-474a-95b2-accb8d557655"
      },
      "execution_count": 267,
      "outputs": [
        {
          "output_type": "stream",
          "name": "stdout",
          "text": [
            "Logistic Regression Training Scores\n",
            "MAE 0.13320707070707072,\n",
            " MSE 0.1710858585858586,\n",
            " RMSE: 0.41362526347632417,\n",
            " R^2: 0.5622395065832749 \n",
            "\n",
            "\n",
            "Logistic Regression Testing Scores\n",
            "MAE 0.11153119092627599,\n",
            " MSE 0.13799621928166353,\n",
            " RMSE: 0.3714784237094579,\n",
            " R^2: 0.588164405767426 \n"
          ]
        }
      ]
    },
    {
      "cell_type": "code",
      "source": [
        "#Utilizing Regularization to adjust the c values and attain higher accuracy\n",
        "\n",
        "c_values = [0.0001, 0.001, 0.01, 0.1, 1, 10, 100, 1000]\n",
        "train_scores = []\n",
        "test_scores = []\n",
        " \n",
        "for c in c_values:\n",
        " \n",
        "  log_reg2 = LogisticRegression(C=c, max_iter=1000, solver='liblinear', penalty='l1')\n",
        "  log_reg2.fit(X_train, y_train)\n",
        "\n",
        "  train_scores.append(log_reg2.score(X_train, y_train))\n",
        "  test_scores.append(log_reg2.score(X_test, y_test))\n",
        "\n",
        "#Visualize the change in c values\n",
        "fig, ax = plt.subplots(1,1)\n",
        "ax.plot(c_values, train_scores, label='Training Accuracy')\n",
        "ax.plot(c_values, test_scores, label='Testing Accuracy')\n",
        "ax.set_xticks(c_values)\n",
        "ax.set_title('Change in accuracy over C values for l1 regularization')\n",
        "ax.legend()\n",
        " \n",
        "\n",
        "ax.set_xscale('log')\n",
        "{c:score for c, score in zip(c_values, test_scores)}"
      ],
      "metadata": {
        "colab": {
          "base_uri": "https://localhost:8080/",
          "height": 432
        },
        "id": "ubyWeEHDcjBq",
        "outputId": "dc0fd89d-50ce-4d4e-a816-8894b91e42c1"
      },
      "execution_count": 317,
      "outputs": [
        {
          "output_type": "execute_result",
          "data": {
            "text/plain": [
              "{0.0001: 0.7939508506616257,\n",
              " 0.001: 0.7939508506616257,\n",
              " 0.01: 0.8468809073724007,\n",
              " 0.1: 0.8922495274102079,\n",
              " 1: 0.8941398865784499,\n",
              " 10: 0.8960302457466919,\n",
              " 100: 0.8960302457466919,\n",
              " 1000: 0.8960302457466919}"
            ]
          },
          "metadata": {},
          "execution_count": 317
        },
        {
          "output_type": "display_data",
          "data": {
            "image/png": "[encoded data removed]",
            "text/plain": [
              "<Figure size 432x288 with 1 Axes>"
            ]
          },
          "metadata": {
            "needs_background": "light"
          }
        }
      ]
    },
    {
      "cell_type": "code",
      "source": [
        "  log_reg3 = LogisticRegression(C=10, max_iter=1000, solver='liblinear', penalty='l2')\n",
        "  log_reg3.fit(X_train, y_train)\n",
        "\n",
        "  print('Logistic Regression Training Scores')\n",
        "eval_model(y_train, log_reg3.predict(X_train))\n",
        "\n",
        "print('\\n')\n",
        "\n",
        "print('Logistic Regression Testing Scores')\n",
        "eval_model(y_test, log_reg3.predict(X_test))"
      ],
      "metadata": {
        "colab": {
          "base_uri": "https://localhost:8080/"
        },
        "id": "QM00a60ndrhC",
        "outputId": "bb51d74f-3efa-4e40-8dca-f26eb05e067c"
      },
      "execution_count": 316,
      "outputs": [
        {
          "output_type": "stream",
          "name": "stdout",
          "text": [
            "Logistic Regression Training Scores\n",
            "MAE 0.13573232323232323,\n",
            " MSE 0.17234848484848486,\n",
            " RMSE: 0.41514875026728054,\n",
            " R^2: 0.559008801834812 \n",
            "\n",
            "\n",
            "Logistic Regression Testing Scores\n",
            "MAE 0.11909262759924386,\n",
            " MSE 0.14933837429111532,\n",
            " RMSE: 0.3864432355354604,\n",
            " R^2: 0.5543149048715981 \n"
          ]
        }
      ]
    },
    {
      "cell_type": "code",
      "source": [
        "#It appears that the regularization did not improve the logistic regression score"
      ],
      "metadata": {
        "id": "9kP6neBZeFi5"
      },
      "execution_count": null,
      "outputs": []
    },
    {
      "cell_type": "code",
      "source": [
        "knn = KNeighborsClassifier()\n",
        "\n",
        "knn.fit(X_train, y_train)\n",
        "\n",
        "print('K Nearest Neighbors Training Scores')\n",
        "eval_model(y_train, knn.predict(X_train))\n",
        "\n",
        "print('\\n')\n",
        "\n",
        "print('K Nearest Neighbors Testing Scores')\n",
        "eval_model(y_test, knn.predict(X_test))"
      ],
      "metadata": {
        "id": "Ssb6weXcVLPE",
        "colab": {
          "base_uri": "https://localhost:8080/"
        },
        "outputId": "887c141d-983e-4827-84df-2689b64bc28b"
      },
      "execution_count": 268,
      "outputs": [
        {
          "output_type": "stream",
          "name": "stdout",
          "text": [
            "K Nearest Neighbors Training Scores\n",
            "MAE 0.06755050505050506,\n",
            " MSE 0.08143939393939394,\n",
            " RMSE: 0.28537588184602064,\n",
            " R^2: 0.7916195437241419 \n",
            "\n",
            "\n",
            "K Nearest Neighbors Testing Scores\n",
            "MAE 0.07939508506616257,\n",
            " MSE 0.09829867674858223,\n",
            " RMSE: 0.3135261978664338,\n",
            " R^2: 0.706637658902824 \n"
          ]
        }
      ]
    },
    {
      "cell_type": "markdown",
      "source": [
        "K Nearest Neighbors Model showed marked improvement with an R squared value of 70%"
      ],
      "metadata": {
        "id": "G-MxEn8cVdZd"
      }
    },
    {
      "cell_type": "code",
      "source": [
        "params = {'n_neighbors': range(1,20),\n",
        "          'weights': ['uniform','distance'],\n",
        "          'p': [2,3,4]}\n",
        "          "
      ],
      "metadata": {
        "id": "OZ9nDa7LVkEM"
      },
      "execution_count": 269,
      "outputs": []
    },
    {
      "cell_type": "code",
      "source": [
        "from sklearn.model_selection import GridSearchCV\n",
        "from sklearn.metrics import classification_report, confusion_matrix\n",
        "from sklearn.metrics import accuracy_score, precision_score, recall_score, classification_report, confusion_matrix\n",
        "\n",
        "knn_grid = GridSearchCV(knn, params)\n",
        "\n",
        "knn_grid.fit(X_train, y_train)"
      ],
      "metadata": {
        "id": "skCPYt1DVwb6",
        "colab": {
          "base_uri": "https://localhost:8080/",
          "height": 93
        },
        "outputId": "5a7896d5-ab21-407d-bbdf-f39ca8b10a81"
      },
      "execution_count": 270,
      "outputs": [
        {
          "output_type": "execute_result",
          "data": {
            "text/html": [
              "<style>#sk-2b2b9654-86b1-41c4-9da2-c52c64dea2bb {color: black;background-color: white;}#sk-2b2b9654-86b1-41c4-9da2-c52c64dea2bb pre{padding: 0;}#sk-2b2b9654-86b1-41c4-9da2-c52c64dea2bb div.sk-toggleable {background-color: white;}#sk-2b2b9654-86b1-41c4-9da2-c52c64dea2bb label.sk-toggleable__label {cursor: pointer;display: block;width: 100%;margin-bottom: 0;padding: 0.3em;box-sizing: border-box;text-align: center;}#sk-2b2b9654-86b1-41c4-9da2-c52c64dea2bb label.sk-toggleable__label-arrow:before {content: \"▸\";float: left;margin-right: 0.25em;color: #696969;}#sk-2b2b9654-86b1-41c4-9da2-c52c64dea2bb label.sk-toggleable__label-arrow:hover:before {color: black;}#sk-2b2b9654-86b1-41c4-9da2-c52c64dea2bb div.sk-estimator:hover label.sk-toggleable__label-arrow:before {color: black;}#sk-2b2b9654-86b1-41c4-9da2-c52c64dea2bb div.sk-toggleable__content {max-height: 0;max-width: 0;overflow: hidden;text-align: left;background-color: #f0f8ff;}#sk-2b2b9654-86b1-41c4-9da2-c52c64dea2bb div.sk-toggleable__content pre {margin: 0.2em;color: black;border-radius: 0.25em;background-color: #f0f8ff;}#sk-2b2b9654-86b1-41c4-9da2-c52c64dea2bb input.sk-toggleable__control:checked~div.sk-toggleable__content {max-height: 200px;max-width: 100%;overflow: auto;}#sk-2b2b9654-86b1-41c4-9da2-c52c64dea2bb input.sk-toggleable__control:checked~label.sk-toggleable__label-arrow:before {content: \"▾\";}#sk-2b2b9654-86b1-41c4-9da2-c52c64dea2bb div.sk-estimator input.sk-toggleable__control:checked~label.sk-toggleable__label {background-color: #d4ebff;}#sk-2b2b9654-86b1-41c4-9da2-c52c64dea2bb div.sk-label input.sk-toggleable__control:checked~label.sk-toggleable__label {background-color: #d4ebff;}#sk-2b2b9654-86b1-41c4-9da2-c52c64dea2bb input.sk-hidden--visually {border: 0;clip: rect(1px 1px 1px 1px);clip: rect(1px, 1px, 1px, 1px);height: 1px;margin: -1px;overflow: hidden;padding: 0;position: absolute;width: 1px;}#sk-2b2b9654-86b1-41c4-9da2-c52c64dea2bb div.sk-estimator {font-family: monospace;background-color: #f0f8ff;border: 1px dotted black;border-radius: 0.25em;box-sizing: border-box;margin-bottom: 0.5em;}#sk-2b2b9654-86b1-41c4-9da2-c52c64dea2bb div.sk-estimator:hover {background-color: #d4ebff;}#sk-2b2b9654-86b1-41c4-9da2-c52c64dea2bb div.sk-parallel-item::after {content: \"\";width: 100%;border-bottom: 1px solid gray;flex-grow: 1;}#sk-2b2b9654-86b1-41c4-9da2-c52c64dea2bb div.sk-label:hover label.sk-toggleable__label {background-color: #d4ebff;}#sk-2b2b9654-86b1-41c4-9da2-c52c64dea2bb div.sk-serial::before {content: \"\";position: absolute;border-left: 1px solid gray;box-sizing: border-box;top: 2em;bottom: 0;left: 50%;}#sk-2b2b9654-86b1-41c4-9da2-c52c64dea2bb div.sk-serial {display: flex;flex-direction: column;align-items: center;background-color: white;padding-right: 0.2em;padding-left: 0.2em;}#sk-2b2b9654-86b1-41c4-9da2-c52c64dea2bb div.sk-item {z-index: 1;}#sk-2b2b9654-86b1-41c4-9da2-c52c64dea2bb div.sk-parallel {display: flex;align-items: stretch;justify-content: center;background-color: white;}#sk-2b2b9654-86b1-41c4-9da2-c52c64dea2bb div.sk-parallel::before {content: \"\";position: absolute;border-left: 1px solid gray;box-sizing: border-box;top: 2em;bottom: 0;left: 50%;}#sk-2b2b9654-86b1-41c4-9da2-c52c64dea2bb div.sk-parallel-item {display: flex;flex-direction: column;position: relative;background-color: white;}#sk-2b2b9654-86b1-41c4-9da2-c52c64dea2bb div.sk-parallel-item:first-child::after {align-self: flex-end;width: 50%;}#sk-2b2b9654-86b1-41c4-9da2-c52c64dea2bb div.sk-parallel-item:last-child::after {align-self: flex-start;width: 50%;}#sk-2b2b9654-86b1-41c4-9da2-c52c64dea2bb div.sk-parallel-item:only-child::after {width: 0;}#sk-2b2b9654-86b1-41c4-9da2-c52c64dea2bb div.sk-dashed-wrapped {border: 1px dashed gray;margin: 0 0.4em 0.5em 0.4em;box-sizing: border-box;padding-bottom: 0.4em;background-color: white;position: relative;}#sk-2b2b9654-86b1-41c4-9da2-c52c64dea2bb div.sk-label label {font-family: monospace;font-weight: bold;background-color: white;display: inline-block;line-height: 1.2em;}#sk-2b2b9654-86b1-41c4-9da2-c52c64dea2bb div.sk-label-container {position: relative;z-index: 2;text-align: center;}#sk-2b2b9654-86b1-41c4-9da2-c52c64dea2bb div.sk-container {/* jupyter's `normalize.less` sets `[hidden] { display: none; }` but bootstrap.min.css set `[hidden] { display: none !important; }` so we also need the `!important` here to be able to override the default hidden behavior on the sphinx rendered scikit-learn.org. See: https://github.com/scikit-learn/scikit-learn/issues/21755 */display: inline-block !important;position: relative;}#sk-2b2b9654-86b1-41c4-9da2-c52c64dea2bb div.sk-text-repr-fallback {display: none;}</style><div id=\"sk-2b2b9654-86b1-41c4-9da2-c52c64dea2bb\" class=\"sk-top-container\"><div class=\"sk-text-repr-fallback\"><pre>GridSearchCV(estimator=KNeighborsClassifier(),\n",
              "             param_grid={&#x27;n_neighbors&#x27;: range(1, 20), &#x27;p&#x27;: [2, 3, 4],\n",
              "                         &#x27;weights&#x27;: [&#x27;uniform&#x27;, &#x27;distance&#x27;]})</pre><b>Please rerun this cell to show the HTML repr or trust the notebook.</b></div><div class=\"sk-container\" hidden><div class=\"sk-item sk-dashed-wrapped\"><div class=\"sk-label-container\"><div class=\"sk-label sk-toggleable\"><input class=\"sk-toggleable__control sk-hidden--visually\" id=\"6886c6e4-80ee-4fca-97e2-ba324cbfb6b2\" type=\"checkbox\" ><label for=\"6886c6e4-80ee-4fca-97e2-ba324cbfb6b2\" class=\"sk-toggleable__label sk-toggleable__label-arrow\">GridSearchCV</label><div class=\"sk-toggleable__content\"><pre>GridSearchCV(estimator=KNeighborsClassifier(),\n",
              "             param_grid={&#x27;n_neighbors&#x27;: range(1, 20), &#x27;p&#x27;: [2, 3, 4],\n",
              "                         &#x27;weights&#x27;: [&#x27;uniform&#x27;, &#x27;distance&#x27;]})</pre></div></div></div><div class=\"sk-parallel\"><div class=\"sk-parallel-item\"><div class=\"sk-item\"><div class=\"sk-serial\"><div class=\"sk-item\"><div class=\"sk-estimator sk-toggleable\"><input class=\"sk-toggleable__control sk-hidden--visually\" id=\"bb855717-3bdb-4e20-aa96-534b5c1ba217\" type=\"checkbox\" ><label for=\"bb855717-3bdb-4e20-aa96-534b5c1ba217\" class=\"sk-toggleable__label sk-toggleable__label-arrow\">KNeighborsClassifier</label><div class=\"sk-toggleable__content\"><pre>KNeighborsClassifier()</pre></div></div></div></div></div></div></div></div></div></div>"
            ],
            "text/plain": [
              "GridSearchCV(estimator=KNeighborsClassifier(),\n",
              "             param_grid={'n_neighbors': range(1, 20), 'p': [2, 3, 4],\n",
              "                         'weights': ['uniform', 'distance']})"
            ]
          },
          "metadata": {},
          "execution_count": 270
        }
      ]
    },
    {
      "cell_type": "code",
      "source": [
        "knn_train_preds = knn.predict(X_train)\n",
        "knn_test_preds = knn.predict(X_test)\n",
        "\n",
        "print('KNN train accuracy:', accuracy_score(y_train, knn_train_preds))\n",
        "print('\\n')\n",
        "print('KNN test accuracy:', accuracy_score(y_test, knn_test_preds))"
      ],
      "metadata": {
        "colab": {
          "base_uri": "https://localhost:8080/"
        },
        "id": "TdyJWx9vX-7c",
        "outputId": "d64abd19-2aaa-4ed8-f908-5b8e48c8cf3f"
      },
      "execution_count": 275,
      "outputs": [
        {
          "output_type": "stream",
          "name": "stdout",
          "text": [
            "KNN train accuracy: 0.9393939393939394\n",
            "\n",
            "\n",
            "KNN test accuracy: 0.9300567107750473\n"
          ]
        }
      ]
    },
    {
      "cell_type": "code",
      "source": [
        "knn_grid.best_params_"
      ],
      "metadata": {
        "id": "yill4dgeWR8j",
        "colab": {
          "base_uri": "https://localhost:8080/"
        },
        "outputId": "b5b0452c-e102-4b7f-a194-e01f37585ccb"
      },
      "execution_count": 271,
      "outputs": [
        {
          "output_type": "execute_result",
          "data": {
            "text/plain": [
              "{'n_neighbors': 3, 'p': 2, 'weights': 'distance'}"
            ]
          },
          "metadata": {},
          "execution_count": 271
        }
      ]
    },
    {
      "cell_type": "code",
      "source": [
        "best_knn = knn_grid.best_estimator_\n",
        "\n",
        "best_knn_train_preds = best_knn.predict(X_train)\n",
        "best_knn_test_preds = best_knn.predict(X_test)\n",
        "print('Best Model KNN Train Metrics')\n",
        "print(classification_report(y_train, knn_train_preds))\n",
        "print('\\nBest Model KNN Test Metrics')\n",
        "print(classification_report(y_test, knn_test_preds))"
      ],
      "metadata": {
        "id": "VMSdZrQRWX9S",
        "colab": {
          "base_uri": "https://localhost:8080/"
        },
        "outputId": "fc2993bc-7ee4-40ed-fc45-e542657304c2"
      },
      "execution_count": 276,
      "outputs": [
        {
          "output_type": "stream",
          "name": "stdout",
          "text": [
            "Best Model KNN Train Metrics\n",
            "              precision    recall  f1-score   support\n",
            "\n",
            "         1.0       0.96      0.98      0.97      1226\n",
            "         2.0       0.83      0.78      0.80       219\n",
            "         3.0       0.94      0.88      0.91       139\n",
            "\n",
            "    accuracy                           0.94      1584\n",
            "   macro avg       0.91      0.88      0.89      1584\n",
            "weighted avg       0.94      0.94      0.94      1584\n",
            "\n",
            "\n",
            "Best Model KNN Test Metrics\n",
            "              precision    recall  f1-score   support\n",
            "\n",
            "         1.0       0.94      0.97      0.96       420\n",
            "         2.0       0.84      0.70      0.76        73\n",
            "         3.0       0.91      0.89      0.90        36\n",
            "\n",
            "    accuracy                           0.93       529\n",
            "   macro avg       0.90      0.85      0.87       529\n",
            "weighted avg       0.93      0.93      0.93       529\n",
            "\n"
          ]
        }
      ]
    },
    {
      "cell_type": "code",
      "source": [
        "print('Best KNN Hypertuned Training Scores')\n",
        "eval_model(y_train, best_knn.predict(X_train))\n",
        "\n",
        "print('\\n')\n",
        "\n",
        "print('Best KNN Hypertuned Testing Scores')\n",
        "eval_model(y_test, best_knn.predict(X_test))"
      ],
      "metadata": {
        "colab": {
          "base_uri": "https://localhost:8080/"
        },
        "id": "AM1W4DrXYLzz",
        "outputId": "976d3174-eb75-4c84-b2cc-19cbc229d154"
      },
      "execution_count": 277,
      "outputs": [
        {
          "output_type": "stream",
          "name": "stdout",
          "text": [
            "Best KNN Hypertuned Training Scores\n",
            "MAE 0.0006313131313131314,\n",
            " MSE 0.0006313131313131314,\n",
            " RMSE: 0.025125945381480302,\n",
            " R^2: 0.9983846476257685 \n",
            "\n",
            "\n",
            "Best KNN Hypertuned Testing Scores\n",
            "MAE 0.06994328922495274,\n",
            " MSE 0.08128544423440454,\n",
            " RMSE: 0.28510602279573916,\n",
            " R^2: 0.757411910246566 \n"
          ]
        }
      ]
    },
    {
      "cell_type": "code",
      "source": [
        "rf = RandomForestClassifier()\n",
        "\n",
        "rf.fit(X_train, y_train)\n",
        "\n",
        "print('Random Forest Classifier Training Scores')\n",
        "eval_model(y_train, rf.predict(X_train))\n",
        "\n",
        "print('\\n')\n",
        "\n",
        "print('Random Forest Classifier Testing Scores')\n",
        "eval_model(y_test, rf.predict(X_test))"
      ],
      "metadata": {
        "id": "4it78lqwWqgz",
        "colab": {
          "base_uri": "https://localhost:8080/"
        },
        "outputId": "4e91293b-c46e-4c12-8557-de84526b864f"
      },
      "execution_count": 273,
      "outputs": [
        {
          "output_type": "stream",
          "name": "stdout",
          "text": [
            "Random Forest Classifier Training Scores\n",
            "MAE 0.0006313131313131314,\n",
            " MSE 0.0006313131313131314,\n",
            " RMSE: 0.025125945381480302,\n",
            " R^2: 0.9983846476257685 \n",
            "\n",
            "\n",
            "Random Forest Classifier Testing Scores\n",
            "MAE 0.052930056710775046,\n",
            " MSE 0.06049149338374291,\n",
            " RMSE: 0.24595018476053826,\n",
            " R^2: 0.819469328555584 \n"
          ]
        }
      ]
    },
    {
      "cell_type": "markdown",
      "source": [
        "#Decision Tree Model\n",
        "\n"
      ],
      "metadata": {
        "id": "54JSOv6TYmk0"
      }
    },
    {
      "cell_type": "code",
      "source": [
        "from sklearn.tree import DecisionTreeClassifier\n",
        "dec_tree = DecisionTreeClassifier(random_state = 42)\n",
        "\n",
        "dec_tree.fit(X_train, y_train)\n",
        "\n",
        "print('Decision Tree Classifier Training Scores')\n",
        "eval_model(y_train, dec_tree.predict(X_train))\n",
        "\n",
        "print('\\n')\n",
        "\n",
        "print('Decision Tree Classifier Testing Scores')\n",
        "eval_model(y_test, dec_tree.predict(X_test))"
      ],
      "metadata": {
        "colab": {
          "base_uri": "https://localhost:8080/"
        },
        "id": "ZzJ1_tN_YpXv",
        "outputId": "d4268e9c-baa3-456d-d3b2-40379b73c8b1"
      },
      "execution_count": 282,
      "outputs": [
        {
          "output_type": "stream",
          "name": "stdout",
          "text": [
            "Decision Tree Classifier Training Scores\n",
            "MAE 0.0006313131313131314,\n",
            " MSE 0.0006313131313131314,\n",
            " RMSE: 0.025125945381480302,\n",
            " R^2: 0.9983846476257685 \n",
            "\n",
            "\n",
            "Decision Tree Classifier Testing Scores\n",
            "MAE 0.0945179584120983,\n",
            " MSE 0.12476370510396975,\n",
            " RMSE: 0.3532190610711287,\n",
            " R^2: 0.627655490145892 \n"
          ]
        }
      ]
    },
    {
      "cell_type": "code",
      "source": [
        "dec_tree.get_depth()"
      ],
      "metadata": {
        "colab": {
          "base_uri": "https://localhost:8080/"
        },
        "id": "lO5uI78cZdfg",
        "outputId": "162ff206-9128-49ba-a354-c34beb46d6c4"
      },
      "execution_count": 283,
      "outputs": [
        {
          "output_type": "execute_result",
          "data": {
            "text/plain": [
              "15"
            ]
          },
          "metadata": {},
          "execution_count": 283
        }
      ]
    },
    {
      "cell_type": "code",
      "source": [
        "dec_tree.get_n_leaves()"
      ],
      "metadata": {
        "colab": {
          "base_uri": "https://localhost:8080/"
        },
        "id": "j_hBOvMpZfM3",
        "outputId": "85544900-de25-40e8-bde1-5d602982d6b8"
      },
      "execution_count": 284,
      "outputs": [
        {
          "output_type": "execute_result",
          "data": {
            "text/plain": [
              "130"
            ]
          },
          "metadata": {},
          "execution_count": 284
        }
      ]
    },
    {
      "cell_type": "code",
      "source": [
        "dec_tree_2 = DecisionTreeClassifier(max_depth = 15, random_state = 42)\n",
        "dec_tree_2.fit(X_train, y_train)\n",
        "\n",
        "print('Decision Tree Classifier 2 Training Scores')\n",
        "eval_model(y_train, dec_tree_2.predict(X_train))\n",
        "\n",
        "print('\\n')\n",
        "\n",
        "print('Decision Tree Classifier 2 Testing Scores')\n",
        "eval_model(y_test, dec_tree_2.predict(X_test))"
      ],
      "metadata": {
        "colab": {
          "base_uri": "https://localhost:8080/"
        },
        "id": "PfXwMpbVZjJ0",
        "outputId": "b6d6e08f-8c72-41f8-cfa7-360fa6170c68"
      },
      "execution_count": 292,
      "outputs": [
        {
          "output_type": "stream",
          "name": "stdout",
          "text": [
            "Decision Tree Classifier 2 Training Scores\n",
            "MAE 0.0006313131313131314,\n",
            " MSE 0.0006313131313131314,\n",
            " RMSE: 0.025125945381480302,\n",
            " R^2: 0.9983846476257685 \n",
            "\n",
            "\n",
            "Decision Tree Classifier 2 Testing Scores\n",
            "MAE 0.0945179584120983,\n",
            " MSE 0.12476370510396975,\n",
            " RMSE: 0.3532190610711287,\n",
            " R^2: 0.627655490145892 \n"
          ]
        }
      ]
    },
    {
      "cell_type": "code",
      "source": [
        "max_depth_range = list(range(2, 20))\n",
        "r2 = []\n",
        "for depth in max_depth_range:\n",
        "    dec_tree_3 = DecisionTreeClassifier(max_depth = depth, \n",
        "                             random_state = 42)\n",
        "    dec_tree_3.fit(X_train, y_train)\n",
        "    score = dec_tree_3.score(X_test, y_test)\n",
        "    r2.append(score)\n",
        "\n",
        "    "
      ],
      "metadata": {
        "id": "Oe7EKW75Z7u6"
      },
      "execution_count": 297,
      "outputs": []
    },
    {
      "cell_type": "code",
      "source": [
        "plt.plot(max_depth_range, r2)\n",
        "plt.xlabel('max_depth')\n",
        "plt.ylabel('R2');"
      ],
      "metadata": {
        "colab": {
          "base_uri": "https://localhost:8080/",
          "height": 280
        },
        "id": "ztGyT7HAaQky",
        "outputId": "f2844252-2f75-4323-9fef-9e76ed229588"
      },
      "execution_count": 298,
      "outputs": [
        {
          "output_type": "display_data",
          "data": {
            "image/png": "[encoded data removed]",
            "text/plain": [
              "<Figure size 432x288 with 1 Axes>"
            ]
          },
          "metadata": {
            "needs_background": "light"
          }
        }
      ]
    },
    {
      "cell_type": "code",
      "source": [
        "dec_tree_3 = DecisionTreeClassifier(max_depth = 8, random_state = 42)\n",
        "dec_tree_3.fit(X_train, y_train)\n",
        "\n",
        "print('Decision Tree Classifier 2 Training Scores')\n",
        "eval_model(y_train, dec_tree_3.predict(X_train))\n",
        "\n",
        "print('\\n')\n",
        "\n",
        "print('Decision Tree Classifier 2 Testing Scores')\n",
        "eval_model(y_test, dec_tree_3.predict(X_test))"
      ],
      "metadata": {
        "colab": {
          "base_uri": "https://localhost:8080/"
        },
        "id": "maB8HQXeaUFy",
        "outputId": "25a98fb5-f324-4cc0-c017-c91c32ac24d2"
      },
      "execution_count": 300,
      "outputs": [
        {
          "output_type": "stream",
          "name": "stdout",
          "text": [
            "Decision Tree Classifier 2 Training Scores\n",
            "MAE 0.04040404040404041,\n",
            " MSE 0.047979797979797977,\n",
            " RMSE: 0.2190429135575903,\n",
            " R^2: 0.8772332195584092 \n",
            "\n",
            "\n",
            "Decision Tree Classifier 2 Testing Scores\n",
            "MAE 0.08128544423440454,\n",
            " MSE 0.11909262759924386,\n",
            " RMSE: 0.34509799709538136,\n",
            " R^2: 0.644580240593806 \n"
          ]
        }
      ]
    },
    {
      "cell_type": "markdown",
      "source": [
        "#Light GBM Model\n"
      ],
      "metadata": {
        "id": "K0HnTYZUamFa"
      }
    },
    {
      "cell_type": "code",
      "source": [
        "from lightgbm import LGBMClassifier\n",
        "from xgboost import XGBClassifier\n",
        "\n",
        "lgbm = LGBMClassifier()\n",
        "\n",
        "lgbm.fit(X_train, y_train)\n",
        "\n",
        "print('Light GBM Boosted Training Scores')\n",
        "eval_model(y_train, lgbm.predict(X_train))\n",
        "\n",
        "print('\\n')\n",
        "\n",
        "print('Light GBM Boosted Testing Scores')\n",
        "eval_model(y_test, lgbm.predict(X_test))"
      ],
      "metadata": {
        "colab": {
          "base_uri": "https://localhost:8080/"
        },
        "id": "mVlbarLYajlg",
        "outputId": "c68a4b25-d4e4-43bf-b679-638481d7060e"
      },
      "execution_count": 303,
      "outputs": [
        {
          "output_type": "stream",
          "name": "stdout",
          "text": [
            "Light GBM Boosted Training Scores\n",
            "MAE 0.0006313131313131314,\n",
            " MSE 0.0006313131313131314,\n",
            " RMSE: 0.025125945381480302,\n",
            " R^2: 0.9983846476257685 \n",
            "\n",
            "\n",
            "Light GBM Boosted Testing Scores\n",
            "MAE 0.054820415879017016,\n",
            " MSE 0.062381852551984876,\n",
            " RMSE: 0.24976359332774037,\n",
            " R^2: 0.813827745072946 \n"
          ]
        }
      ]
    },
    {
      "cell_type": "code",
      "source": [
        "xgb = XGBClassifier()\n",
        "\n",
        "xgb.fit(X_train, y_train)\n",
        "\n",
        "print('XG Boosted Training Scores')\n",
        "eval_model(y_train, xgb.predict(X_train))\n",
        "\n",
        "print('\\n')\n",
        "\n",
        "print('XG Boosted Testing Scores')\n",
        "eval_model(y_test, xgb.predict(X_test))"
      ],
      "metadata": {
        "colab": {
          "base_uri": "https://localhost:8080/"
        },
        "id": "fBpyHCJ3bNYO",
        "outputId": "de3a5def-2fe8-4e93-da6d-47549ed16c88"
      },
      "execution_count": 304,
      "outputs": [
        {
          "output_type": "stream",
          "name": "stdout",
          "text": [
            "XG Boosted Training Scores\n",
            "MAE 0.0422979797979798,\n",
            " MSE 0.04734848484848485,\n",
            " RMSE: 0.2175970699446223,\n",
            " R^2: 0.8788485719326407 \n",
            "\n",
            "\n",
            "XG Boosted Testing Scores\n",
            "MAE 0.052930056710775046,\n",
            " MSE 0.06805293005671077,\n",
            " RMSE: 0.2608695652173913,\n",
            " R^2: 0.796902994625032 \n"
          ]
        }
      ]
    },
    {
      "cell_type": "markdown",
      "source": [
        "###The highest accuracy models were Random Forest Classifier and Light GBM, producing similar results with 81-82% r2 values. \n",
        "\n",
        "#Random Forest Classifer will be the selected model to continue the predictive process for its ease of use and ease of hypertuning in future calculations."
      ],
      "metadata": {
        "id": "XkC0lSrReirX"
      }
    }
  ]
}